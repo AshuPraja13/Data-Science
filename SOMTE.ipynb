{
 "cells": [
  {
   "cell_type": "code",
   "execution_count": 1,
   "id": "3d4074ec",
   "metadata": {},
   "outputs": [],
   "source": [
    "import numpy as np\n",
    "import pandas as pd\n",
    "import matplotlib.pyplot as plt\n",
    "import seaborn as sns\n",
    "import tensorflow as tf\n",
    "from sklearn.preprocessing import StandardScaler\n",
    "from sklearn.model_selection import train_test_split\n",
    "from sklearn.metrics import accuracy_score,confusion_matrix,classification_report"
   ]
  },
  {
   "cell_type": "code",
   "execution_count": 2,
   "id": "ae2af412",
   "metadata": {},
   "outputs": [
    {
     "data": {
      "text/html": [
       "<div>\n",
       "<style scoped>\n",
       "    .dataframe tbody tr th:only-of-type {\n",
       "        vertical-align: middle;\n",
       "    }\n",
       "\n",
       "    .dataframe tbody tr th {\n",
       "        vertical-align: top;\n",
       "    }\n",
       "\n",
       "    .dataframe thead th {\n",
       "        text-align: right;\n",
       "    }\n",
       "</style>\n",
       "<table border=\"1\" class=\"dataframe\">\n",
       "  <thead>\n",
       "    <tr style=\"text-align: right;\">\n",
       "      <th></th>\n",
       "      <th>Pregnancies</th>\n",
       "      <th>Glucose</th>\n",
       "      <th>BloodPressure</th>\n",
       "      <th>SkinThickness</th>\n",
       "      <th>Insulin</th>\n",
       "      <th>BMI</th>\n",
       "      <th>DiabetesPedigreeFunction</th>\n",
       "      <th>Age</th>\n",
       "      <th>Outcome</th>\n",
       "    </tr>\n",
       "  </thead>\n",
       "  <tbody>\n",
       "    <tr>\n",
       "      <th>360</th>\n",
       "      <td>5</td>\n",
       "      <td>189</td>\n",
       "      <td>64</td>\n",
       "      <td>33</td>\n",
       "      <td>325</td>\n",
       "      <td>31.2</td>\n",
       "      <td>0.583</td>\n",
       "      <td>29</td>\n",
       "      <td>1</td>\n",
       "    </tr>\n",
       "    <tr>\n",
       "      <th>302</th>\n",
       "      <td>5</td>\n",
       "      <td>77</td>\n",
       "      <td>82</td>\n",
       "      <td>41</td>\n",
       "      <td>42</td>\n",
       "      <td>35.8</td>\n",
       "      <td>0.156</td>\n",
       "      <td>35</td>\n",
       "      <td>0</td>\n",
       "    </tr>\n",
       "    <tr>\n",
       "      <th>475</th>\n",
       "      <td>0</td>\n",
       "      <td>137</td>\n",
       "      <td>84</td>\n",
       "      <td>27</td>\n",
       "      <td>0</td>\n",
       "      <td>27.3</td>\n",
       "      <td>0.231</td>\n",
       "      <td>59</td>\n",
       "      <td>0</td>\n",
       "    </tr>\n",
       "    <tr>\n",
       "      <th>597</th>\n",
       "      <td>1</td>\n",
       "      <td>89</td>\n",
       "      <td>24</td>\n",
       "      <td>19</td>\n",
       "      <td>25</td>\n",
       "      <td>27.8</td>\n",
       "      <td>0.559</td>\n",
       "      <td>21</td>\n",
       "      <td>0</td>\n",
       "    </tr>\n",
       "    <tr>\n",
       "      <th>739</th>\n",
       "      <td>1</td>\n",
       "      <td>102</td>\n",
       "      <td>74</td>\n",
       "      <td>0</td>\n",
       "      <td>0</td>\n",
       "      <td>39.5</td>\n",
       "      <td>0.293</td>\n",
       "      <td>42</td>\n",
       "      <td>1</td>\n",
       "    </tr>\n",
       "  </tbody>\n",
       "</table>\n",
       "</div>"
      ],
      "text/plain": [
       "     Pregnancies  Glucose  BloodPressure  SkinThickness  Insulin   BMI  \\\n",
       "360            5      189             64             33      325  31.2   \n",
       "302            5       77             82             41       42  35.8   \n",
       "475            0      137             84             27        0  27.3   \n",
       "597            1       89             24             19       25  27.8   \n",
       "739            1      102             74              0        0  39.5   \n",
       "\n",
       "     DiabetesPedigreeFunction  Age  Outcome  \n",
       "360                     0.583   29        1  \n",
       "302                     0.156   35        0  \n",
       "475                     0.231   59        0  \n",
       "597                     0.559   21        0  \n",
       "739                     0.293   42        1  "
      ]
     },
     "execution_count": 2,
     "metadata": {},
     "output_type": "execute_result"
    }
   ],
   "source": [
    "df = pd.read_csv(r'D:\\Intellipat\\DL\\Assignment\\Assignment-4\\diabetes.csv')\n",
    "df.sample(5)"
   ]
  },
  {
   "cell_type": "code",
   "execution_count": 3,
   "id": "c2bbf9f0",
   "metadata": {},
   "outputs": [
    {
     "data": {
      "text/plain": [
       "0    500\n",
       "1    268\n",
       "Name: Outcome, dtype: int64"
      ]
     },
     "execution_count": 3,
     "metadata": {},
     "output_type": "execute_result"
    }
   ],
   "source": [
    "df.Outcome.value_counts()"
   ]
  },
  {
   "cell_type": "markdown",
   "id": "bbe706c9",
   "metadata": {},
   "source": [
    "# EDA"
   ]
  },
  {
   "cell_type": "code",
   "execution_count": 4,
   "id": "db258799",
   "metadata": {},
   "outputs": [
    {
     "name": "stdout",
     "output_type": "stream",
     "text": [
      "<class 'pandas.core.frame.DataFrame'>\n",
      "RangeIndex: 768 entries, 0 to 767\n",
      "Data columns (total 9 columns):\n",
      " #   Column                    Non-Null Count  Dtype  \n",
      "---  ------                    --------------  -----  \n",
      " 0   Pregnancies               768 non-null    int64  \n",
      " 1   Glucose                   768 non-null    int64  \n",
      " 2   BloodPressure             768 non-null    int64  \n",
      " 3   SkinThickness             768 non-null    int64  \n",
      " 4   Insulin                   768 non-null    int64  \n",
      " 5   BMI                       768 non-null    float64\n",
      " 6   DiabetesPedigreeFunction  768 non-null    float64\n",
      " 7   Age                       768 non-null    int64  \n",
      " 8   Outcome                   768 non-null    int64  \n",
      "dtypes: float64(2), int64(7)\n",
      "memory usage: 54.1 KB\n"
     ]
    }
   ],
   "source": [
    "df.info()"
   ]
  },
  {
   "cell_type": "code",
   "execution_count": 5,
   "id": "f062a612",
   "metadata": {},
   "outputs": [
    {
     "data": {
      "text/html": [
       "<div>\n",
       "<style scoped>\n",
       "    .dataframe tbody tr th:only-of-type {\n",
       "        vertical-align: middle;\n",
       "    }\n",
       "\n",
       "    .dataframe tbody tr th {\n",
       "        vertical-align: top;\n",
       "    }\n",
       "\n",
       "    .dataframe thead th {\n",
       "        text-align: right;\n",
       "    }\n",
       "</style>\n",
       "<table border=\"1\" class=\"dataframe\">\n",
       "  <thead>\n",
       "    <tr style=\"text-align: right;\">\n",
       "      <th></th>\n",
       "      <th>count</th>\n",
       "      <th>mean</th>\n",
       "      <th>std</th>\n",
       "      <th>min</th>\n",
       "      <th>25%</th>\n",
       "      <th>50%</th>\n",
       "      <th>75%</th>\n",
       "      <th>max</th>\n",
       "    </tr>\n",
       "  </thead>\n",
       "  <tbody>\n",
       "    <tr>\n",
       "      <th>Pregnancies</th>\n",
       "      <td>768.0</td>\n",
       "      <td>3.845052</td>\n",
       "      <td>3.369578</td>\n",
       "      <td>0.000</td>\n",
       "      <td>1.00000</td>\n",
       "      <td>3.0000</td>\n",
       "      <td>6.00000</td>\n",
       "      <td>17.00</td>\n",
       "    </tr>\n",
       "    <tr>\n",
       "      <th>Glucose</th>\n",
       "      <td>768.0</td>\n",
       "      <td>120.894531</td>\n",
       "      <td>31.972618</td>\n",
       "      <td>0.000</td>\n",
       "      <td>99.00000</td>\n",
       "      <td>117.0000</td>\n",
       "      <td>140.25000</td>\n",
       "      <td>199.00</td>\n",
       "    </tr>\n",
       "    <tr>\n",
       "      <th>BloodPressure</th>\n",
       "      <td>768.0</td>\n",
       "      <td>69.105469</td>\n",
       "      <td>19.355807</td>\n",
       "      <td>0.000</td>\n",
       "      <td>62.00000</td>\n",
       "      <td>72.0000</td>\n",
       "      <td>80.00000</td>\n",
       "      <td>122.00</td>\n",
       "    </tr>\n",
       "    <tr>\n",
       "      <th>SkinThickness</th>\n",
       "      <td>768.0</td>\n",
       "      <td>20.536458</td>\n",
       "      <td>15.952218</td>\n",
       "      <td>0.000</td>\n",
       "      <td>0.00000</td>\n",
       "      <td>23.0000</td>\n",
       "      <td>32.00000</td>\n",
       "      <td>99.00</td>\n",
       "    </tr>\n",
       "    <tr>\n",
       "      <th>Insulin</th>\n",
       "      <td>768.0</td>\n",
       "      <td>79.799479</td>\n",
       "      <td>115.244002</td>\n",
       "      <td>0.000</td>\n",
       "      <td>0.00000</td>\n",
       "      <td>30.5000</td>\n",
       "      <td>127.25000</td>\n",
       "      <td>846.00</td>\n",
       "    </tr>\n",
       "    <tr>\n",
       "      <th>BMI</th>\n",
       "      <td>768.0</td>\n",
       "      <td>31.992578</td>\n",
       "      <td>7.884160</td>\n",
       "      <td>0.000</td>\n",
       "      <td>27.30000</td>\n",
       "      <td>32.0000</td>\n",
       "      <td>36.60000</td>\n",
       "      <td>67.10</td>\n",
       "    </tr>\n",
       "    <tr>\n",
       "      <th>DiabetesPedigreeFunction</th>\n",
       "      <td>768.0</td>\n",
       "      <td>0.471876</td>\n",
       "      <td>0.331329</td>\n",
       "      <td>0.078</td>\n",
       "      <td>0.24375</td>\n",
       "      <td>0.3725</td>\n",
       "      <td>0.62625</td>\n",
       "      <td>2.42</td>\n",
       "    </tr>\n",
       "    <tr>\n",
       "      <th>Age</th>\n",
       "      <td>768.0</td>\n",
       "      <td>33.240885</td>\n",
       "      <td>11.760232</td>\n",
       "      <td>21.000</td>\n",
       "      <td>24.00000</td>\n",
       "      <td>29.0000</td>\n",
       "      <td>41.00000</td>\n",
       "      <td>81.00</td>\n",
       "    </tr>\n",
       "    <tr>\n",
       "      <th>Outcome</th>\n",
       "      <td>768.0</td>\n",
       "      <td>0.348958</td>\n",
       "      <td>0.476951</td>\n",
       "      <td>0.000</td>\n",
       "      <td>0.00000</td>\n",
       "      <td>0.0000</td>\n",
       "      <td>1.00000</td>\n",
       "      <td>1.00</td>\n",
       "    </tr>\n",
       "  </tbody>\n",
       "</table>\n",
       "</div>"
      ],
      "text/plain": [
       "                          count        mean         std     min       25%  \\\n",
       "Pregnancies               768.0    3.845052    3.369578   0.000   1.00000   \n",
       "Glucose                   768.0  120.894531   31.972618   0.000  99.00000   \n",
       "BloodPressure             768.0   69.105469   19.355807   0.000  62.00000   \n",
       "SkinThickness             768.0   20.536458   15.952218   0.000   0.00000   \n",
       "Insulin                   768.0   79.799479  115.244002   0.000   0.00000   \n",
       "BMI                       768.0   31.992578    7.884160   0.000  27.30000   \n",
       "DiabetesPedigreeFunction  768.0    0.471876    0.331329   0.078   0.24375   \n",
       "Age                       768.0   33.240885   11.760232  21.000  24.00000   \n",
       "Outcome                   768.0    0.348958    0.476951   0.000   0.00000   \n",
       "\n",
       "                               50%        75%     max  \n",
       "Pregnancies                 3.0000    6.00000   17.00  \n",
       "Glucose                   117.0000  140.25000  199.00  \n",
       "BloodPressure              72.0000   80.00000  122.00  \n",
       "SkinThickness              23.0000   32.00000   99.00  \n",
       "Insulin                    30.5000  127.25000  846.00  \n",
       "BMI                        32.0000   36.60000   67.10  \n",
       "DiabetesPedigreeFunction    0.3725    0.62625    2.42  \n",
       "Age                        29.0000   41.00000   81.00  \n",
       "Outcome                     0.0000    1.00000    1.00  "
      ]
     },
     "execution_count": 5,
     "metadata": {},
     "output_type": "execute_result"
    }
   ],
   "source": [
    "df.describe().T"
   ]
  },
  {
   "cell_type": "markdown",
   "id": "9a280275",
   "metadata": {},
   "source": [
    "# Data Visualization"
   ]
  },
  {
   "cell_type": "code",
   "execution_count": 7,
   "id": "972f5985",
   "metadata": {
    "scrolled": false
   },
   "outputs": [
    {
     "data": {
      "image/png": "[encoded data removed]",
      "text/plain": [
       "<Figure size 864x3240 with 2 Axes>"
      ]
     },
     "metadata": {
      "needs_background": "light"
     },
     "output_type": "display_data"
    },
    {
     "data": {
      "image/png": "[encoded data removed]",
      "text/plain": [
       "<Figure size 864x3240 with 2 Axes>"
      ]
     },
     "metadata": {
      "needs_background": "light"
     },
     "output_type": "display_data"
    },
    {
     "data": {
      "image/png": "[encoded data removed]",
      "text/plain": [
       "<Figure size 864x3240 with 2 Axes>"
      ]
     },
     "metadata": {
      "needs_background": "light"
     },
     "output_type": "display_data"
    },
    {
     "data": {
      "image/png": "[encoded data removed]",
      "text/plain": [
       "<Figure size 864x3240 with 2 Axes>"
      ]
     },
     "metadata": {
      "needs_background": "light"
     },
     "output_type": "display_data"
    },
    {
     "data": {
      "image/png": "[encoded data removed]",
      "text/plain": [
       "<Figure size 864x3240 with 2 Axes>"
      ]
     },
     "metadata": {
      "needs_background": "light"
     },
     "output_type": "display_data"
    },
    {
     "data": {
      "image/png": "[encoded data removed]",
      "text/plain": [
       "<Figure size 864x3240 with 2 Axes>"
      ]
     },
     "metadata": {
      "needs_background": "light"
     },
     "output_type": "display_data"
    },
    {
     "data": {
      "image/png": "[encoded data removed]",
      "text/plain": [
       "<Figure size 864x3240 with 2 Axes>"
      ]
     },
     "metadata": {
      "needs_background": "light"
     },
     "output_type": "display_data"
    },
    {
     "data": {
      "image/png": "[encoded data removed]",
      "text/plain": [
       "<Figure size 864x3240 with 2 Axes>"
      ]
     },
     "metadata": {
      "needs_background": "light"
     },
     "output_type": "display_data"
    },
    {
     "data": {
      "image/png": "[encoded data removed]",
      "text/plain": [
       "<Figure size 864x3240 with 2 Axes>"
      ]
     },
     "metadata": {
      "needs_background": "light"
     },
     "output_type": "display_data"
    }
   ],
   "source": [
    "j=1\n",
    "# plt.figure(figsize=(12,45))\n",
    "for i in df.columns:\n",
    "    plt.figure(figsize=(12,45))\n",
    "    plt.subplot(10,2,1)\n",
    "    sns.histplot(df[f'{i}'][df['Outcome']==0],kde=True)#,hue=df.Outcome)\n",
    "#     plt.show()\n",
    "    j=j+1\n",
    "#     plt.figure(figsize=(12,45))    \n",
    "    plt.subplot(10,2,2)\n",
    "    sns.histplot(df[f'{i}'][df['Outcome']==1],kde=True)#,hue=df.Outcome)\n",
    "    plt.show()\n",
    "    j=j+1"
   ]
  },
  {
   "cell_type": "markdown",
   "id": "6536ec01",
   "metadata": {},
   "source": [
    "# Preprocessing"
   ]
  },
  {
   "cell_type": "code",
   "execution_count": 8,
   "id": "993f8dc8",
   "metadata": {},
   "outputs": [],
   "source": [
    "x_train,x_test,y_train,y_test = train_test_split(df.iloc[:,:-1],df.iloc[:,-1],train_size=0.9,random_state=0,stratify=df.Outcome)"
   ]
  },
  {
   "cell_type": "code",
   "execution_count": 9,
   "id": "1686b97e",
   "metadata": {},
   "outputs": [],
   "source": [
    "from imblearn.over_sampling import ADASYN,SMOTEN"
   ]
  },
  {
   "cell_type": "code",
   "execution_count": 10,
   "id": "90d2d37d",
   "metadata": {},
   "outputs": [],
   "source": [
    "ada = ADASYN(random_state=0,n_neighbors=15)"
   ]
  },
  {
   "cell_type": "code",
   "execution_count": 11,
   "id": "6ba3f886",
   "metadata": {},
   "outputs": [],
   "source": [
    "x_train_resample,y_train_resample = ada.fit_resample(x_train,y_train)"
   ]
  },
  {
   "cell_type": "code",
   "execution_count": 12,
   "id": "aaf633cd",
   "metadata": {},
   "outputs": [],
   "source": [
    "smotenn = SMOTEN(random_state=0,k_neighbors=15)"
   ]
  },
  {
   "cell_type": "code",
   "execution_count": 13,
   "id": "e948a0b3",
   "metadata": {},
   "outputs": [],
   "source": [
    "x_train_resample,y_train_resample = smotenn.fit_resample(x_train,y_train)"
   ]
  },
  {
   "cell_type": "code",
   "execution_count": 14,
   "id": "6dfe07c8",
   "metadata": {},
   "outputs": [],
   "source": [
    "from imblearn.combine import SMOTEENN\n",
    "smoteenn = SMOTEENN(random_state=0)"
   ]
  },
  {
   "cell_type": "code",
   "execution_count": 15,
   "id": "0ff60c0b",
   "metadata": {},
   "outputs": [],
   "source": [
    "x_train_resample,y_train_resample = smoteenn.fit_resample(x_train,y_train)"
   ]
  },
  {
   "cell_type": "code",
   "execution_count": 16,
   "id": "0ec88b4c",
   "metadata": {},
   "outputs": [
    {
     "data": {
      "text/plain": [
       "(441, 8)"
      ]
     },
     "execution_count": 16,
     "metadata": {},
     "output_type": "execute_result"
    }
   ],
   "source": [
    "x_train_resample.shape"
   ]
  },
  {
   "cell_type": "code",
   "execution_count": 17,
   "id": "c23ac0d8",
   "metadata": {},
   "outputs": [
    {
     "data": {
      "text/plain": [
       "(441,)"
      ]
     },
     "execution_count": 17,
     "metadata": {},
     "output_type": "execute_result"
    }
   ],
   "source": [
    "y_train_resample.shape"
   ]
  },
  {
   "cell_type": "code",
   "execution_count": 18,
   "id": "03305082",
   "metadata": {},
   "outputs": [
    {
     "data": {
      "text/plain": [
       "1    244\n",
       "0    197\n",
       "Name: Outcome, dtype: int64"
      ]
     },
     "execution_count": 18,
     "metadata": {},
     "output_type": "execute_result"
    }
   ],
   "source": [
    "y_train_resample.value_counts()"
   ]
  },
  {
   "cell_type": "code",
   "execution_count": 19,
   "id": "e93c5eaa",
   "metadata": {},
   "outputs": [],
   "source": [
    "ss = StandardScaler()\n",
    "x_train_resample = ss.fit_transform(x_train_resample)"
   ]
  },
  {
   "cell_type": "markdown",
   "id": "96bdca43",
   "metadata": {},
   "source": [
    "# Machine Learning"
   ]
  },
  {
   "cell_type": "code",
   "execution_count": 20,
   "id": "0a433ac6",
   "metadata": {},
   "outputs": [],
   "source": [
    "from sklearn.ensemble import RandomForestClassifier\n",
    "rfc = RandomForestClassifier(n_estimators=100)"
   ]
  },
  {
   "cell_type": "code",
   "execution_count": 21,
   "id": "e106a8f6",
   "metadata": {},
   "outputs": [
    {
     "data": {
      "text/html": [
       "<style>#sk-container-id-1 {color: black;}#sk-container-id-1 pre{padding: 0;}#sk-container-id-1 div.sk-toggleable {background-color: white;}#sk-container-id-1 label.sk-toggleable__label {cursor: pointer;display: block;width: 100%;margin-bottom: 0;padding: 0.3em;box-sizing: border-box;text-align: center;}#sk-container-id-1 label.sk-toggleable__label-arrow:before {content: \"▸\";float: left;margin-right: 0.25em;color: #696969;}#sk-container-id-1 label.sk-toggleable__label-arrow:hover:before {color: black;}#sk-container-id-1 div.sk-estimator:hover label.sk-toggleable__label-arrow:before {color: black;}#sk-container-id-1 div.sk-toggleable__content {max-height: 0;max-width: 0;overflow: hidden;text-align: left;background-color: #f0f8ff;}#sk-container-id-1 div.sk-toggleable__content pre {margin: 0.2em;color: black;border-radius: 0.25em;background-color: #f0f8ff;}#sk-container-id-1 input.sk-toggleable__control:checked~div.sk-toggleable__content {max-height: 200px;max-width: 100%;overflow: auto;}#sk-container-id-1 input.sk-toggleable__control:checked~label.sk-toggleable__label-arrow:before {content: \"▾\";}#sk-container-id-1 div.sk-estimator input.sk-toggleable__control:checked~label.sk-toggleable__label {background-color: #d4ebff;}#sk-container-id-1 div.sk-label input.sk-toggleable__control:checked~label.sk-toggleable__label {background-color: #d4ebff;}#sk-container-id-1 input.sk-hidden--visually {border: 0;clip: rect(1px 1px 1px 1px);clip: rect(1px, 1px, 1px, 1px);height: 1px;margin: -1px;overflow: hidden;padding: 0;position: absolute;width: 1px;}#sk-container-id-1 div.sk-estimator {font-family: monospace;background-color: #f0f8ff;border: 1px dotted black;border-radius: 0.25em;box-sizing: border-box;margin-bottom: 0.5em;}#sk-container-id-1 div.sk-estimator:hover {background-color: #d4ebff;}#sk-container-id-1 div.sk-parallel-item::after {content: \"\";width: 100%;border-bottom: 1px solid gray;flex-grow: 1;}#sk-container-id-1 div.sk-label:hover label.sk-toggleable__label {background-color: #d4ebff;}#sk-container-id-1 div.sk-serial::before {content: \"\";position: absolute;border-left: 1px solid gray;box-sizing: border-box;top: 0;bottom: 0;left: 50%;z-index: 0;}#sk-container-id-1 div.sk-serial {display: flex;flex-direction: column;align-items: center;background-color: white;padding-right: 0.2em;padding-left: 0.2em;position: relative;}#sk-container-id-1 div.sk-item {position: relative;z-index: 1;}#sk-container-id-1 div.sk-parallel {display: flex;align-items: stretch;justify-content: center;background-color: white;position: relative;}#sk-container-id-1 div.sk-item::before, #sk-container-id-1 div.sk-parallel-item::before {content: \"\";position: absolute;border-left: 1px solid gray;box-sizing: border-box;top: 0;bottom: 0;left: 50%;z-index: -1;}#sk-container-id-1 div.sk-parallel-item {display: flex;flex-direction: column;z-index: 1;position: relative;background-color: white;}#sk-container-id-1 div.sk-parallel-item:first-child::after {align-self: flex-end;width: 50%;}#sk-container-id-1 div.sk-parallel-item:last-child::after {align-self: flex-start;width: 50%;}#sk-container-id-1 div.sk-parallel-item:only-child::after {width: 0;}#sk-container-id-1 div.sk-dashed-wrapped {border: 1px dashed gray;margin: 0 0.4em 0.5em 0.4em;box-sizing: border-box;padding-bottom: 0.4em;background-color: white;}#sk-container-id-1 div.sk-label label {font-family: monospace;font-weight: bold;display: inline-block;line-height: 1.2em;}#sk-container-id-1 div.sk-label-container {text-align: center;}#sk-container-id-1 div.sk-container {/* jupyter's `normalize.less` sets `[hidden] { display: none; }` but bootstrap.min.css set `[hidden] { display: none !important; }` so we also need the `!important` here to be able to override the default hidden behavior on the sphinx rendered scikit-learn.org. See: https://github.com/scikit-learn/scikit-learn/issues/21755 */display: inline-block !important;position: relative;}#sk-container-id-1 div.sk-text-repr-fallback {display: none;}</style><div id=\"sk-container-id-1\" class=\"sk-top-container\"><div class=\"sk-text-repr-fallback\"><pre>RandomForestClassifier()</pre><b>In a Jupyter environment, please rerun this cell to show the HTML representation or trust the notebook. <br />On GitHub, the HTML representation is unable to render, please try loading this page with nbviewer.org.</b></div><div class=\"sk-container\" hidden><div class=\"sk-item\"><div class=\"sk-estimator sk-toggleable\"><input class=\"sk-toggleable__control sk-hidden--visually\" id=\"sk-estimator-id-1\" type=\"checkbox\" checked><label for=\"sk-estimator-id-1\" class=\"sk-toggleable__label sk-toggleable__label-arrow\">RandomForestClassifier</label><div class=\"sk-toggleable__content\"><pre>RandomForestClassifier()</pre></div></div></div></div></div>"
      ],
      "text/plain": [
       "RandomForestClassifier()"
      ]
     },
     "execution_count": 21,
     "metadata": {},
     "output_type": "execute_result"
    }
   ],
   "source": [
    "rfc.fit(x_train_resample,y_train_resample)"
   ]
  },
  {
   "cell_type": "code",
   "execution_count": 22,
   "id": "561a2799",
   "metadata": {},
   "outputs": [
    {
     "name": "stderr",
     "output_type": "stream",
     "text": [
      "C:\\Users\\akpra\\anaconda3\\lib\\site-packages\\sklearn\\base.py:458: UserWarning: X has feature names, but RandomForestClassifier was fitted without feature names\n",
      "  warnings.warn(\n"
     ]
    },
    {
     "data": {
      "text/plain": [
       "0.35064935064935066"
      ]
     },
     "execution_count": 22,
     "metadata": {},
     "output_type": "execute_result"
    }
   ],
   "source": [
    "rfc.score(x_test,y_test)"
   ]
  },
  {
   "cell_type": "code",
   "execution_count": 23,
   "id": "ea75c914",
   "metadata": {},
   "outputs": [
    {
     "data": {
      "text/html": [
       "<style>#sk-container-id-2 {color: black;}#sk-container-id-2 pre{padding: 0;}#sk-container-id-2 div.sk-toggleable {background-color: white;}#sk-container-id-2 label.sk-toggleable__label {cursor: pointer;display: block;width: 100%;margin-bottom: 0;padding: 0.3em;box-sizing: border-box;text-align: center;}#sk-container-id-2 label.sk-toggleable__label-arrow:before {content: \"▸\";float: left;margin-right: 0.25em;color: #696969;}#sk-container-id-2 label.sk-toggleable__label-arrow:hover:before {color: black;}#sk-container-id-2 div.sk-estimator:hover label.sk-toggleable__label-arrow:before {color: black;}#sk-container-id-2 div.sk-toggleable__content {max-height: 0;max-width: 0;overflow: hidden;text-align: left;background-color: #f0f8ff;}#sk-container-id-2 div.sk-toggleable__content pre {margin: 0.2em;color: black;border-radius: 0.25em;background-color: #f0f8ff;}#sk-container-id-2 input.sk-toggleable__control:checked~div.sk-toggleable__content {max-height: 200px;max-width: 100%;overflow: auto;}#sk-container-id-2 input.sk-toggleable__control:checked~label.sk-toggleable__label-arrow:before {content: \"▾\";}#sk-container-id-2 div.sk-estimator input.sk-toggleable__control:checked~label.sk-toggleable__label {background-color: #d4ebff;}#sk-container-id-2 div.sk-label input.sk-toggleable__control:checked~label.sk-toggleable__label {background-color: #d4ebff;}#sk-container-id-2 input.sk-hidden--visually {border: 0;clip: rect(1px 1px 1px 1px);clip: rect(1px, 1px, 1px, 1px);height: 1px;margin: -1px;overflow: hidden;padding: 0;position: absolute;width: 1px;}#sk-container-id-2 div.sk-estimator {font-family: monospace;background-color: #f0f8ff;border: 1px dotted black;border-radius: 0.25em;box-sizing: border-box;margin-bottom: 0.5em;}#sk-container-id-2 div.sk-estimator:hover {background-color: #d4ebff;}#sk-container-id-2 div.sk-parallel-item::after {content: \"\";width: 100%;border-bottom: 1px solid gray;flex-grow: 1;}#sk-container-id-2 div.sk-label:hover label.sk-toggleable__label {background-color: #d4ebff;}#sk-container-id-2 div.sk-serial::before {content: \"\";position: absolute;border-left: 1px solid gray;box-sizing: border-box;top: 0;bottom: 0;left: 50%;z-index: 0;}#sk-container-id-2 div.sk-serial {display: flex;flex-direction: column;align-items: center;background-color: white;padding-right: 0.2em;padding-left: 0.2em;position: relative;}#sk-container-id-2 div.sk-item {position: relative;z-index: 1;}#sk-container-id-2 div.sk-parallel {display: flex;align-items: stretch;justify-content: center;background-color: white;position: relative;}#sk-container-id-2 div.sk-item::before, #sk-container-id-2 div.sk-parallel-item::before {content: \"\";position: absolute;border-left: 1px solid gray;box-sizing: border-box;top: 0;bottom: 0;left: 50%;z-index: -1;}#sk-container-id-2 div.sk-parallel-item {display: flex;flex-direction: column;z-index: 1;position: relative;background-color: white;}#sk-container-id-2 div.sk-parallel-item:first-child::after {align-self: flex-end;width: 50%;}#sk-container-id-2 div.sk-parallel-item:last-child::after {align-self: flex-start;width: 50%;}#sk-container-id-2 div.sk-parallel-item:only-child::after {width: 0;}#sk-container-id-2 div.sk-dashed-wrapped {border: 1px dashed gray;margin: 0 0.4em 0.5em 0.4em;box-sizing: border-box;padding-bottom: 0.4em;background-color: white;}#sk-container-id-2 div.sk-label label {font-family: monospace;font-weight: bold;display: inline-block;line-height: 1.2em;}#sk-container-id-2 div.sk-label-container {text-align: center;}#sk-container-id-2 div.sk-container {/* jupyter's `normalize.less` sets `[hidden] { display: none; }` but bootstrap.min.css set `[hidden] { display: none !important; }` so we also need the `!important` here to be able to override the default hidden behavior on the sphinx rendered scikit-learn.org. See: https://github.com/scikit-learn/scikit-learn/issues/21755 */display: inline-block !important;position: relative;}#sk-container-id-2 div.sk-text-repr-fallback {display: none;}</style><div id=\"sk-container-id-2\" class=\"sk-top-container\"><div class=\"sk-text-repr-fallback\"><pre>RandomForestClassifier()</pre><b>In a Jupyter environment, please rerun this cell to show the HTML representation or trust the notebook. <br />On GitHub, the HTML representation is unable to render, please try loading this page with nbviewer.org.</b></div><div class=\"sk-container\" hidden><div class=\"sk-item\"><div class=\"sk-estimator sk-toggleable\"><input class=\"sk-toggleable__control sk-hidden--visually\" id=\"sk-estimator-id-2\" type=\"checkbox\" checked><label for=\"sk-estimator-id-2\" class=\"sk-toggleable__label sk-toggleable__label-arrow\">RandomForestClassifier</label><div class=\"sk-toggleable__content\"><pre>RandomForestClassifier()</pre></div></div></div></div></div>"
      ],
      "text/plain": [
       "RandomForestClassifier()"
      ]
     },
     "execution_count": 23,
     "metadata": {},
     "output_type": "execute_result"
    }
   ],
   "source": [
    "rfc.fit(x_train,y_train)"
   ]
  },
  {
   "cell_type": "code",
   "execution_count": 24,
   "id": "ef885a00",
   "metadata": {},
   "outputs": [
    {
     "data": {
      "text/plain": [
       "0.8571428571428571"
      ]
     },
     "execution_count": 24,
     "metadata": {},
     "output_type": "execute_result"
    }
   ],
   "source": [
    "rfc.score(x_test,y_test)"
   ]
  },
  {
   "cell_type": "code",
   "execution_count": 25,
   "id": "f3e217f9",
   "metadata": {},
   "outputs": [],
   "source": [
    "from sklearn.tree import DecisionTreeClassifier\n",
    "dtc = DecisionTreeClassifier()"
   ]
  },
  {
   "cell_type": "code",
   "execution_count": 26,
   "id": "e43b0c80",
   "metadata": {},
   "outputs": [
    {
     "data": {
      "text/html": [
       "<style>#sk-container-id-3 {color: black;}#sk-container-id-3 pre{padding: 0;}#sk-container-id-3 div.sk-toggleable {background-color: white;}#sk-container-id-3 label.sk-toggleable__label {cursor: pointer;display: block;width: 100%;margin-bottom: 0;padding: 0.3em;box-sizing: border-box;text-align: center;}#sk-container-id-3 label.sk-toggleable__label-arrow:before {content: \"▸\";float: left;margin-right: 0.25em;color: #696969;}#sk-container-id-3 label.sk-toggleable__label-arrow:hover:before {color: black;}#sk-container-id-3 div.sk-estimator:hover label.sk-toggleable__label-arrow:before {color: black;}#sk-container-id-3 div.sk-toggleable__content {max-height: 0;max-width: 0;overflow: hidden;text-align: left;background-color: #f0f8ff;}#sk-container-id-3 div.sk-toggleable__content pre {margin: 0.2em;color: black;border-radius: 0.25em;background-color: #f0f8ff;}#sk-container-id-3 input.sk-toggleable__control:checked~div.sk-toggleable__content {max-height: 200px;max-width: 100%;overflow: auto;}#sk-container-id-3 input.sk-toggleable__control:checked~label.sk-toggleable__label-arrow:before {content: \"▾\";}#sk-container-id-3 div.sk-estimator input.sk-toggleable__control:checked~label.sk-toggleable__label {background-color: #d4ebff;}#sk-container-id-3 div.sk-label input.sk-toggleable__control:checked~label.sk-toggleable__label {background-color: #d4ebff;}#sk-container-id-3 input.sk-hidden--visually {border: 0;clip: rect(1px 1px 1px 1px);clip: rect(1px, 1px, 1px, 1px);height: 1px;margin: -1px;overflow: hidden;padding: 0;position: absolute;width: 1px;}#sk-container-id-3 div.sk-estimator {font-family: monospace;background-color: #f0f8ff;border: 1px dotted black;border-radius: 0.25em;box-sizing: border-box;margin-bottom: 0.5em;}#sk-container-id-3 div.sk-estimator:hover {background-color: #d4ebff;}#sk-container-id-3 div.sk-parallel-item::after {content: \"\";width: 100%;border-bottom: 1px solid gray;flex-grow: 1;}#sk-container-id-3 div.sk-label:hover label.sk-toggleable__label {background-color: #d4ebff;}#sk-container-id-3 div.sk-serial::before {content: \"\";position: absolute;border-left: 1px solid gray;box-sizing: border-box;top: 0;bottom: 0;left: 50%;z-index: 0;}#sk-container-id-3 div.sk-serial {display: flex;flex-direction: column;align-items: center;background-color: white;padding-right: 0.2em;padding-left: 0.2em;position: relative;}#sk-container-id-3 div.sk-item {position: relative;z-index: 1;}#sk-container-id-3 div.sk-parallel {display: flex;align-items: stretch;justify-content: center;background-color: white;position: relative;}#sk-container-id-3 div.sk-item::before, #sk-container-id-3 div.sk-parallel-item::before {content: \"\";position: absolute;border-left: 1px solid gray;box-sizing: border-box;top: 0;bottom: 0;left: 50%;z-index: -1;}#sk-container-id-3 div.sk-parallel-item {display: flex;flex-direction: column;z-index: 1;position: relative;background-color: white;}#sk-container-id-3 div.sk-parallel-item:first-child::after {align-self: flex-end;width: 50%;}#sk-container-id-3 div.sk-parallel-item:last-child::after {align-self: flex-start;width: 50%;}#sk-container-id-3 div.sk-parallel-item:only-child::after {width: 0;}#sk-container-id-3 div.sk-dashed-wrapped {border: 1px dashed gray;margin: 0 0.4em 0.5em 0.4em;box-sizing: border-box;padding-bottom: 0.4em;background-color: white;}#sk-container-id-3 div.sk-label label {font-family: monospace;font-weight: bold;display: inline-block;line-height: 1.2em;}#sk-container-id-3 div.sk-label-container {text-align: center;}#sk-container-id-3 div.sk-container {/* jupyter's `normalize.less` sets `[hidden] { display: none; }` but bootstrap.min.css set `[hidden] { display: none !important; }` so we also need the `!important` here to be able to override the default hidden behavior on the sphinx rendered scikit-learn.org. See: https://github.com/scikit-learn/scikit-learn/issues/21755 */display: inline-block !important;position: relative;}#sk-container-id-3 div.sk-text-repr-fallback {display: none;}</style><div id=\"sk-container-id-3\" class=\"sk-top-container\"><div class=\"sk-text-repr-fallback\"><pre>DecisionTreeClassifier()</pre><b>In a Jupyter environment, please rerun this cell to show the HTML representation or trust the notebook. <br />On GitHub, the HTML representation is unable to render, please try loading this page with nbviewer.org.</b></div><div class=\"sk-container\" hidden><div class=\"sk-item\"><div class=\"sk-estimator sk-toggleable\"><input class=\"sk-toggleable__control sk-hidden--visually\" id=\"sk-estimator-id-3\" type=\"checkbox\" checked><label for=\"sk-estimator-id-3\" class=\"sk-toggleable__label sk-toggleable__label-arrow\">DecisionTreeClassifier</label><div class=\"sk-toggleable__content\"><pre>DecisionTreeClassifier()</pre></div></div></div></div></div>"
      ],
      "text/plain": [
       "DecisionTreeClassifier()"
      ]
     },
     "execution_count": 26,
     "metadata": {},
     "output_type": "execute_result"
    }
   ],
   "source": [
    "dtc.fit(x_train_resample,y_train_resample)"
   ]
  },
  {
   "cell_type": "code",
   "execution_count": 27,
   "id": "8128639f",
   "metadata": {},
   "outputs": [
    {
     "name": "stderr",
     "output_type": "stream",
     "text": [
      "C:\\Users\\akpra\\anaconda3\\lib\\site-packages\\sklearn\\base.py:458: UserWarning: X has feature names, but DecisionTreeClassifier was fitted without feature names\n",
      "  warnings.warn(\n"
     ]
    },
    {
     "data": {
      "text/plain": [
       "0.35064935064935066"
      ]
     },
     "execution_count": 27,
     "metadata": {},
     "output_type": "execute_result"
    }
   ],
   "source": [
    "dtc.score(x_test,y_test)"
   ]
  },
  {
   "cell_type": "code",
   "execution_count": 28,
   "id": "d0314c33",
   "metadata": {},
   "outputs": [
    {
     "data": {
      "text/html": [
       "<style>#sk-container-id-4 {color: black;}#sk-container-id-4 pre{padding: 0;}#sk-container-id-4 div.sk-toggleable {background-color: white;}#sk-container-id-4 label.sk-toggleable__label {cursor: pointer;display: block;width: 100%;margin-bottom: 0;padding: 0.3em;box-sizing: border-box;text-align: center;}#sk-container-id-4 label.sk-toggleable__label-arrow:before {content: \"▸\";float: left;margin-right: 0.25em;color: #696969;}#sk-container-id-4 label.sk-toggleable__label-arrow:hover:before {color: black;}#sk-container-id-4 div.sk-estimator:hover label.sk-toggleable__label-arrow:before {color: black;}#sk-container-id-4 div.sk-toggleable__content {max-height: 0;max-width: 0;overflow: hidden;text-align: left;background-color: #f0f8ff;}#sk-container-id-4 div.sk-toggleable__content pre {margin: 0.2em;color: black;border-radius: 0.25em;background-color: #f0f8ff;}#sk-container-id-4 input.sk-toggleable__control:checked~div.sk-toggleable__content {max-height: 200px;max-width: 100%;overflow: auto;}#sk-container-id-4 input.sk-toggleable__control:checked~label.sk-toggleable__label-arrow:before {content: \"▾\";}#sk-container-id-4 div.sk-estimator input.sk-toggleable__control:checked~label.sk-toggleable__label {background-color: #d4ebff;}#sk-container-id-4 div.sk-label input.sk-toggleable__control:checked~label.sk-toggleable__label {background-color: #d4ebff;}#sk-container-id-4 input.sk-hidden--visually {border: 0;clip: rect(1px 1px 1px 1px);clip: rect(1px, 1px, 1px, 1px);height: 1px;margin: -1px;overflow: hidden;padding: 0;position: absolute;width: 1px;}#sk-container-id-4 div.sk-estimator {font-family: monospace;background-color: #f0f8ff;border: 1px dotted black;border-radius: 0.25em;box-sizing: border-box;margin-bottom: 0.5em;}#sk-container-id-4 div.sk-estimator:hover {background-color: #d4ebff;}#sk-container-id-4 div.sk-parallel-item::after {content: \"\";width: 100%;border-bottom: 1px solid gray;flex-grow: 1;}#sk-container-id-4 div.sk-label:hover label.sk-toggleable__label {background-color: #d4ebff;}#sk-container-id-4 div.sk-serial::before {content: \"\";position: absolute;border-left: 1px solid gray;box-sizing: border-box;top: 0;bottom: 0;left: 50%;z-index: 0;}#sk-container-id-4 div.sk-serial {display: flex;flex-direction: column;align-items: center;background-color: white;padding-right: 0.2em;padding-left: 0.2em;position: relative;}#sk-container-id-4 div.sk-item {position: relative;z-index: 1;}#sk-container-id-4 div.sk-parallel {display: flex;align-items: stretch;justify-content: center;background-color: white;position: relative;}#sk-container-id-4 div.sk-item::before, #sk-container-id-4 div.sk-parallel-item::before {content: \"\";position: absolute;border-left: 1px solid gray;box-sizing: border-box;top: 0;bottom: 0;left: 50%;z-index: -1;}#sk-container-id-4 div.sk-parallel-item {display: flex;flex-direction: column;z-index: 1;position: relative;background-color: white;}#sk-container-id-4 div.sk-parallel-item:first-child::after {align-self: flex-end;width: 50%;}#sk-container-id-4 div.sk-parallel-item:last-child::after {align-self: flex-start;width: 50%;}#sk-container-id-4 div.sk-parallel-item:only-child::after {width: 0;}#sk-container-id-4 div.sk-dashed-wrapped {border: 1px dashed gray;margin: 0 0.4em 0.5em 0.4em;box-sizing: border-box;padding-bottom: 0.4em;background-color: white;}#sk-container-id-4 div.sk-label label {font-family: monospace;font-weight: bold;display: inline-block;line-height: 1.2em;}#sk-container-id-4 div.sk-label-container {text-align: center;}#sk-container-id-4 div.sk-container {/* jupyter's `normalize.less` sets `[hidden] { display: none; }` but bootstrap.min.css set `[hidden] { display: none !important; }` so we also need the `!important` here to be able to override the default hidden behavior on the sphinx rendered scikit-learn.org. See: https://github.com/scikit-learn/scikit-learn/issues/21755 */display: inline-block !important;position: relative;}#sk-container-id-4 div.sk-text-repr-fallback {display: none;}</style><div id=\"sk-container-id-4\" class=\"sk-top-container\"><div class=\"sk-text-repr-fallback\"><pre>DecisionTreeClassifier()</pre><b>In a Jupyter environment, please rerun this cell to show the HTML representation or trust the notebook. <br />On GitHub, the HTML representation is unable to render, please try loading this page with nbviewer.org.</b></div><div class=\"sk-container\" hidden><div class=\"sk-item\"><div class=\"sk-estimator sk-toggleable\"><input class=\"sk-toggleable__control sk-hidden--visually\" id=\"sk-estimator-id-4\" type=\"checkbox\" checked><label for=\"sk-estimator-id-4\" class=\"sk-toggleable__label sk-toggleable__label-arrow\">DecisionTreeClassifier</label><div class=\"sk-toggleable__content\"><pre>DecisionTreeClassifier()</pre></div></div></div></div></div>"
      ],
      "text/plain": [
       "DecisionTreeClassifier()"
      ]
     },
     "execution_count": 28,
     "metadata": {},
     "output_type": "execute_result"
    }
   ],
   "source": [
    "dtc.fit(x_train,y_train)"
   ]
  },
  {
   "cell_type": "code",
   "execution_count": 29,
   "id": "71bb7e04",
   "metadata": {},
   "outputs": [
    {
     "data": {
      "text/plain": [
       "0.7012987012987013"
      ]
     },
     "execution_count": 29,
     "metadata": {},
     "output_type": "execute_result"
    }
   ],
   "source": [
    "dtc.score(x_test,y_test)"
   ]
  },
  {
   "cell_type": "markdown",
   "id": "aeee12a7",
   "metadata": {},
   "source": [
    "# Deep Learning"
   ]
  },
  {
   "cell_type": "code",
   "execution_count": 30,
   "id": "ed0de7e4",
   "metadata": {},
   "outputs": [],
   "source": [
    "x_train,x_test,y_train,y_test = train_test_split(df.iloc[:,:-1],df.iloc[:,-1],train_size=0.9,random_state=0)"
   ]
  },
  {
   "cell_type": "code",
   "execution_count": 31,
   "id": "05a2dd13",
   "metadata": {},
   "outputs": [],
   "source": [
    "x_train_resample,y_train_resample = smoteenn.fit_resample(x_train,y_train)"
   ]
  },
  {
   "cell_type": "code",
   "execution_count": 32,
   "id": "89c6c730",
   "metadata": {},
   "outputs": [],
   "source": [
    "x_train = ss.fit_transform(x_train)\n",
    "x_train_resample = ss.fit_transform(x_train_resample)\n",
    "x_test = ss.fit_transform(x_test)\n",
    "y_train_resample = pd.get_dummies(y_train_resample)"
   ]
  },
  {
   "cell_type": "code",
   "execution_count": 33,
   "id": "62395ee1",
   "metadata": {},
   "outputs": [],
   "source": [
    "xn_train,xn_test,yn_train,yn_test = train_test_split(df[['Pregnancies','Glucose','BloodPressure']],df.iloc[:,-1],train_size=0.9,random_state=0,stratify=df.Outcome)"
   ]
  },
  {
   "cell_type": "code",
   "execution_count": 34,
   "id": "d26cb5e1",
   "metadata": {},
   "outputs": [],
   "source": [
    "xn_train_resample,yn_train_resample = smoteenn.fit_resample(xn_train,yn_train)\n",
    "xn_train_resample = ss.fit_transform(xn_train_resample)\n",
    "yn_train_resample = pd.get_dummies(yn_train_resample)\n",
    "xn_test = ss.fit_transform(xn_test)"
   ]
  },
  {
   "cell_type": "code",
   "execution_count": 35,
   "id": "015e5f54",
   "metadata": {},
   "outputs": [
    {
     "data": {
      "text/plain": [
       "0    450\n",
       "1    241\n",
       "Name: Outcome, dtype: int64"
      ]
     },
     "execution_count": 35,
     "metadata": {},
     "output_type": "execute_result"
    }
   ],
   "source": [
    "yn_train.value_counts()"
   ]
  },
  {
   "cell_type": "code",
   "execution_count": 36,
   "id": "3df3018d",
   "metadata": {},
   "outputs": [
    {
     "data": {
      "text/plain": [
       "0    222\n",
       "1    201\n",
       "Name: 0, dtype: int64"
      ]
     },
     "execution_count": 36,
     "metadata": {},
     "output_type": "execute_result"
    }
   ],
   "source": [
    "yn_train_resample[0].value_counts()"
   ]
  },
  {
   "cell_type": "markdown",
   "id": "636f94bb",
   "metadata": {},
   "source": [
    "## QA. Build a sequential model using Keras on top of this Diabetes dataset to find out if the patient has diabetes or not, using ‘Pregnancies’, ‘Glucose’ & ‘BloodPressure’ as independent columns.\n",
    "    1. This model should have 1 hidden layer with 8 nodes\n",
    "    2. Use Stochastic Gradient as the optimization algorithm\n",
    "    3. Fit the model, with number of epochs to be 100 and batch size to be 10"
   ]
  },
  {
   "cell_type": "code",
   "execution_count": 36,
   "id": "38f3a251",
   "metadata": {},
   "outputs": [],
   "source": [
    "# del model"
   ]
  },
  {
   "cell_type": "code",
   "execution_count": 37,
   "id": "f301181c",
   "metadata": {
    "scrolled": true
   },
   "outputs": [
    {
     "name": "stdout",
     "output_type": "stream",
     "text": [
      "Model: \"sequential\"\n",
      "_________________________________________________________________\n",
      " Layer (type)                Output Shape              Param #   \n",
      "=================================================================\n",
      " Hidden_Layer_1 (Dense)      (None, 8)                 32        \n",
      "                                                                 \n",
      " Output_Layer (Dense)        (None, 2)                 18        \n",
      "                                                                 \n",
      "=================================================================\n",
      "Total params: 50 (200.00 Byte)\n",
      "Trainable params: 50 (200.00 Byte)\n",
      "Non-trainable params: 0 (0.00 Byte)\n",
      "_________________________________________________________________\n",
      "Epoch 1/100\n",
      "38/38 [==============================] - 1s 6ms/step - loss: 0.6753 - acc: 0.6342 - val_loss: 0.7198 - val_acc: 0.4651\n",
      "Epoch 2/100\n",
      "38/38 [==============================] - 0s 2ms/step - loss: 0.6474 - acc: 0.7132 - val_loss: 0.7001 - val_acc: 0.7907\n",
      "Epoch 3/100\n",
      "38/38 [==============================] - 0s 2ms/step - loss: 0.6222 - acc: 0.8421 - val_loss: 0.6816 - val_acc: 0.8140\n",
      "Epoch 4/100\n",
      "38/38 [==============================] - 0s 2ms/step - loss: 0.5990 - acc: 0.8579 - val_loss: 0.6644 - val_acc: 0.7907\n",
      "Epoch 5/100\n",
      "38/38 [==============================] - 0s 2ms/step - loss: 0.5769 - acc: 0.8605 - val_loss: 0.6480 - val_acc: 0.7907\n",
      "Epoch 6/100\n",
      "38/38 [==============================] - 0s 2ms/step - loss: 0.5560 - acc: 0.8579 - val_loss: 0.6326 - val_acc: 0.7907\n",
      "Epoch 7/100\n",
      "38/38 [==============================] - 0s 2ms/step - loss: 0.5361 - acc: 0.8632 - val_loss: 0.6180 - val_acc: 0.7907\n",
      "Epoch 8/100\n",
      "38/38 [==============================] - 0s 1ms/step - loss: 0.5169 - acc: 0.8658 - val_loss: 0.6040 - val_acc: 0.7907\n",
      "Epoch 9/100\n",
      "38/38 [==============================] - 0s 2ms/step - loss: 0.4982 - acc: 0.8711 - val_loss: 0.5907 - val_acc: 0.7907\n",
      "Epoch 10/100\n",
      "38/38 [==============================] - 0s 2ms/step - loss: 0.4804 - acc: 0.8711 - val_loss: 0.5779 - val_acc: 0.7907\n",
      "Epoch 11/100\n",
      "38/38 [==============================] - 0s 2ms/step - loss: 0.4636 - acc: 0.8711 - val_loss: 0.5654 - val_acc: 0.7907\n",
      "Epoch 12/100\n",
      "38/38 [==============================] - 0s 2ms/step - loss: 0.4477 - acc: 0.8737 - val_loss: 0.5534 - val_acc: 0.7907\n",
      "Epoch 13/100\n",
      "38/38 [==============================] - 0s 2ms/step - loss: 0.4326 - acc: 0.8737 - val_loss: 0.5420 - val_acc: 0.7907\n",
      "Epoch 14/100\n",
      "38/38 [==============================] - 0s 2ms/step - loss: 0.4181 - acc: 0.8737 - val_loss: 0.5310 - val_acc: 0.7907\n",
      "Epoch 15/100\n",
      "38/38 [==============================] - 0s 2ms/step - loss: 0.4045 - acc: 0.8789 - val_loss: 0.5209 - val_acc: 0.7907\n",
      "Epoch 16/100\n",
      "38/38 [==============================] - 0s 2ms/step - loss: 0.3918 - acc: 0.8842 - val_loss: 0.5120 - val_acc: 0.7907\n",
      "Epoch 17/100\n",
      "38/38 [==============================] - 0s 2ms/step - loss: 0.3800 - acc: 0.8842 - val_loss: 0.5037 - val_acc: 0.7907\n",
      "Epoch 18/100\n",
      "38/38 [==============================] - 0s 2ms/step - loss: 0.3689 - acc: 0.8895 - val_loss: 0.4957 - val_acc: 0.7907\n",
      "Epoch 19/100\n",
      "38/38 [==============================] - 0s 1ms/step - loss: 0.3587 - acc: 0.8895 - val_loss: 0.4884 - val_acc: 0.7907\n",
      "Epoch 20/100\n",
      "38/38 [==============================] - 0s 2ms/step - loss: 0.3493 - acc: 0.8921 - val_loss: 0.4817 - val_acc: 0.7674\n",
      "Epoch 21/100\n",
      "38/38 [==============================] - 0s 2ms/step - loss: 0.3406 - acc: 0.8921 - val_loss: 0.4754 - val_acc: 0.7674\n",
      "Epoch 22/100\n",
      "38/38 [==============================] - 0s 2ms/step - loss: 0.3326 - acc: 0.8947 - val_loss: 0.4697 - val_acc: 0.7674\n",
      "Epoch 23/100\n",
      "38/38 [==============================] - 0s 2ms/step - loss: 0.3253 - acc: 0.8895 - val_loss: 0.4644 - val_acc: 0.7674\n",
      "Epoch 24/100\n",
      "38/38 [==============================] - 0s 1ms/step - loss: 0.3184 - acc: 0.8895 - val_loss: 0.4597 - val_acc: 0.7674\n",
      "Epoch 25/100\n",
      "38/38 [==============================] - 0s 2ms/step - loss: 0.3120 - acc: 0.8921 - val_loss: 0.4556 - val_acc: 0.7674\n",
      "Epoch 26/100\n",
      "38/38 [==============================] - 0s 2ms/step - loss: 0.3060 - acc: 0.8895 - val_loss: 0.4514 - val_acc: 0.7674\n",
      "Epoch 27/100\n",
      "38/38 [==============================] - 0s 1ms/step - loss: 0.3006 - acc: 0.8842 - val_loss: 0.4477 - val_acc: 0.7674\n",
      "Epoch 28/100\n",
      "38/38 [==============================] - 0s 2ms/step - loss: 0.2956 - acc: 0.8868 - val_loss: 0.4445 - val_acc: 0.7674\n",
      "Epoch 29/100\n",
      "38/38 [==============================] - 0s 1ms/step - loss: 0.2911 - acc: 0.8868 - val_loss: 0.4416 - val_acc: 0.7674\n",
      "Epoch 30/100\n",
      "38/38 [==============================] - 0s 2ms/step - loss: 0.2870 - acc: 0.8868 - val_loss: 0.4387 - val_acc: 0.7674\n",
      "Epoch 31/100\n",
      "38/38 [==============================] - 0s 2ms/step - loss: 0.2832 - acc: 0.8789 - val_loss: 0.4363 - val_acc: 0.7674\n",
      "Epoch 32/100\n",
      "38/38 [==============================] - 0s 2ms/step - loss: 0.2797 - acc: 0.8763 - val_loss: 0.4340 - val_acc: 0.7674\n",
      "Epoch 33/100\n",
      "38/38 [==============================] - 0s 2ms/step - loss: 0.2765 - acc: 0.8763 - val_loss: 0.4318 - val_acc: 0.7674\n",
      "Epoch 34/100\n",
      "38/38 [==============================] - 0s 2ms/step - loss: 0.2736 - acc: 0.8763 - val_loss: 0.4297 - val_acc: 0.7674\n",
      "Epoch 35/100\n",
      "38/38 [==============================] - 0s 2ms/step - loss: 0.2710 - acc: 0.8763 - val_loss: 0.4277 - val_acc: 0.7674\n",
      "Epoch 36/100\n",
      "38/38 [==============================] - 0s 2ms/step - loss: 0.2685 - acc: 0.8763 - val_loss: 0.4257 - val_acc: 0.7907\n",
      "Epoch 37/100\n",
      "38/38 [==============================] - 0s 2ms/step - loss: 0.2662 - acc: 0.8763 - val_loss: 0.4240 - val_acc: 0.7907\n",
      "Epoch 38/100\n",
      "38/38 [==============================] - 0s 2ms/step - loss: 0.2640 - acc: 0.8763 - val_loss: 0.4225 - val_acc: 0.7907\n",
      "Epoch 39/100\n",
      "38/38 [==============================] - 0s 2ms/step - loss: 0.2621 - acc: 0.8763 - val_loss: 0.4215 - val_acc: 0.7907\n",
      "Epoch 40/100\n",
      "38/38 [==============================] - 0s 2ms/step - loss: 0.2604 - acc: 0.8763 - val_loss: 0.4203 - val_acc: 0.7907\n",
      "Epoch 41/100\n",
      "38/38 [==============================] - 0s 2ms/step - loss: 0.2587 - acc: 0.8763 - val_loss: 0.4192 - val_acc: 0.7907\n",
      "Epoch 42/100\n",
      "38/38 [==============================] - 0s 2ms/step - loss: 0.2572 - acc: 0.8763 - val_loss: 0.4183 - val_acc: 0.7907\n",
      "Epoch 43/100\n",
      "38/38 [==============================] - 0s 2ms/step - loss: 0.2557 - acc: 0.8763 - val_loss: 0.4175 - val_acc: 0.7907\n",
      "Epoch 44/100\n",
      "38/38 [==============================] - 0s 2ms/step - loss: 0.2544 - acc: 0.8763 - val_loss: 0.4166 - val_acc: 0.7907\n",
      "Epoch 45/100\n",
      "38/38 [==============================] - 0s 2ms/step - loss: 0.2533 - acc: 0.8763 - val_loss: 0.4159 - val_acc: 0.7907\n",
      "Epoch 46/100\n",
      "38/38 [==============================] - 0s 2ms/step - loss: 0.2521 - acc: 0.8737 - val_loss: 0.4151 - val_acc: 0.7907\n",
      "Epoch 47/100\n",
      "38/38 [==============================] - 0s 2ms/step - loss: 0.2510 - acc: 0.8711 - val_loss: 0.4144 - val_acc: 0.7907\n",
      "Epoch 48/100\n",
      "38/38 [==============================] - 0s 2ms/step - loss: 0.2501 - acc: 0.8711 - val_loss: 0.4137 - val_acc: 0.7907\n",
      "Epoch 49/100\n",
      "38/38 [==============================] - 0s 2ms/step - loss: 0.2492 - acc: 0.8737 - val_loss: 0.4131 - val_acc: 0.7907\n",
      "Epoch 50/100\n",
      "38/38 [==============================] - 0s 2ms/step - loss: 0.2484 - acc: 0.8763 - val_loss: 0.4123 - val_acc: 0.7907\n",
      "Epoch 51/100\n",
      "38/38 [==============================] - 0s 1ms/step - loss: 0.2477 - acc: 0.8737 - val_loss: 0.4118 - val_acc: 0.7907\n",
      "Epoch 52/100\n",
      "38/38 [==============================] - 0s 2ms/step - loss: 0.2469 - acc: 0.8763 - val_loss: 0.4114 - val_acc: 0.7907\n",
      "Epoch 53/100\n",
      "38/38 [==============================] - 0s 2ms/step - loss: 0.2462 - acc: 0.8763 - val_loss: 0.4108 - val_acc: 0.7907\n",
      "Epoch 54/100\n",
      "38/38 [==============================] - 0s 2ms/step - loss: 0.2455 - acc: 0.8789 - val_loss: 0.4106 - val_acc: 0.7907\n",
      "Epoch 55/100\n",
      "38/38 [==============================] - 0s 1ms/step - loss: 0.2451 - acc: 0.8789 - val_loss: 0.4103 - val_acc: 0.7907\n",
      "Epoch 56/100\n",
      "38/38 [==============================] - 0s 2ms/step - loss: 0.2445 - acc: 0.8789 - val_loss: 0.4100 - val_acc: 0.7907\n",
      "Epoch 57/100\n",
      "38/38 [==============================] - 0s 1ms/step - loss: 0.2440 - acc: 0.8789 - val_loss: 0.4096 - val_acc: 0.7907\n",
      "Epoch 58/100\n",
      "38/38 [==============================] - 0s 2ms/step - loss: 0.2434 - acc: 0.8789 - val_loss: 0.4091 - val_acc: 0.7907\n",
      "Epoch 59/100\n",
      "38/38 [==============================] - 0s 2ms/step - loss: 0.2429 - acc: 0.8816 - val_loss: 0.4088 - val_acc: 0.7907\n",
      "Epoch 60/100\n",
      "38/38 [==============================] - 0s 2ms/step - loss: 0.2425 - acc: 0.8816 - val_loss: 0.4085 - val_acc: 0.7907\n",
      "Epoch 61/100\n",
      "38/38 [==============================] - 0s 2ms/step - loss: 0.2421 - acc: 0.8816 - val_loss: 0.4082 - val_acc: 0.7907\n",
      "Epoch 62/100\n",
      "38/38 [==============================] - 0s 2ms/step - loss: 0.2417 - acc: 0.8816 - val_loss: 0.4079 - val_acc: 0.8140\n",
      "Epoch 63/100\n",
      "38/38 [==============================] - 0s 2ms/step - loss: 0.2414 - acc: 0.8816 - val_loss: 0.4076 - val_acc: 0.8140\n",
      "Epoch 64/100\n",
      "38/38 [==============================] - 0s 2ms/step - loss: 0.2410 - acc: 0.8816 - val_loss: 0.4075 - val_acc: 0.8140\n",
      "Epoch 65/100\n",
      "38/38 [==============================] - 0s 2ms/step - loss: 0.2408 - acc: 0.8789 - val_loss: 0.4073 - val_acc: 0.8140\n",
      "Epoch 66/100\n",
      "38/38 [==============================] - 0s 2ms/step - loss: 0.2404 - acc: 0.8816 - val_loss: 0.4069 - val_acc: 0.8140\n",
      "Epoch 67/100\n",
      "38/38 [==============================] - 0s 2ms/step - loss: 0.2402 - acc: 0.8816 - val_loss: 0.4068 - val_acc: 0.8140\n",
      "Epoch 68/100\n",
      "38/38 [==============================] - 0s 2ms/step - loss: 0.2399 - acc: 0.8816 - val_loss: 0.4066 - val_acc: 0.8140\n",
      "Epoch 69/100\n",
      "38/38 [==============================] - 0s 2ms/step - loss: 0.2396 - acc: 0.8816 - val_loss: 0.4064 - val_acc: 0.8140\n",
      "Epoch 70/100\n",
      "38/38 [==============================] - 0s 2ms/step - loss: 0.2394 - acc: 0.8816 - val_loss: 0.4063 - val_acc: 0.8140\n",
      "Epoch 71/100\n",
      "38/38 [==============================] - 0s 2ms/step - loss: 0.2392 - acc: 0.8816 - val_loss: 0.4058 - val_acc: 0.8140\n",
      "Epoch 72/100\n",
      "38/38 [==============================] - 0s 2ms/step - loss: 0.2390 - acc: 0.8816 - val_loss: 0.4056 - val_acc: 0.8140\n",
      "Epoch 73/100\n",
      "38/38 [==============================] - 0s 2ms/step - loss: 0.2388 - acc: 0.8816 - val_loss: 0.4055 - val_acc: 0.8140\n",
      "Epoch 74/100\n",
      "38/38 [==============================] - 0s 2ms/step - loss: 0.2386 - acc: 0.8842 - val_loss: 0.4052 - val_acc: 0.8140\n",
      "Epoch 75/100\n",
      "38/38 [==============================] - 0s 2ms/step - loss: 0.2384 - acc: 0.8842 - val_loss: 0.4052 - val_acc: 0.8140\n",
      "Epoch 76/100\n",
      "38/38 [==============================] - 0s 2ms/step - loss: 0.2382 - acc: 0.8842 - val_loss: 0.4049 - val_acc: 0.8140\n",
      "Epoch 77/100\n",
      "38/38 [==============================] - 0s 2ms/step - loss: 0.2380 - acc: 0.8816 - val_loss: 0.4047 - val_acc: 0.8140\n",
      "Epoch 78/100\n",
      "38/38 [==============================] - 0s 2ms/step - loss: 0.2379 - acc: 0.8842 - val_loss: 0.4047 - val_acc: 0.8140\n",
      "Epoch 79/100\n",
      "38/38 [==============================] - 0s 2ms/step - loss: 0.2377 - acc: 0.8842 - val_loss: 0.4043 - val_acc: 0.8140\n",
      "Epoch 80/100\n",
      "38/38 [==============================] - 0s 2ms/step - loss: 0.2376 - acc: 0.8842 - val_loss: 0.4043 - val_acc: 0.8140\n",
      "Epoch 81/100\n",
      "38/38 [==============================] - 0s 2ms/step - loss: 0.2376 - acc: 0.8842 - val_loss: 0.4040 - val_acc: 0.8140\n",
      "Epoch 82/100\n",
      "38/38 [==============================] - 0s 2ms/step - loss: 0.2374 - acc: 0.8842 - val_loss: 0.4042 - val_acc: 0.8140\n",
      "Epoch 83/100\n",
      "38/38 [==============================] - 0s 2ms/step - loss: 0.2372 - acc: 0.8842 - val_loss: 0.4039 - val_acc: 0.8140\n",
      "Epoch 84/100\n",
      "38/38 [==============================] - 0s 2ms/step - loss: 0.2371 - acc: 0.8842 - val_loss: 0.4041 - val_acc: 0.8140\n",
      "Epoch 85/100\n",
      "38/38 [==============================] - 0s 2ms/step - loss: 0.2370 - acc: 0.8842 - val_loss: 0.4045 - val_acc: 0.8140\n",
      "Epoch 86/100\n",
      "38/38 [==============================] - 0s 2ms/step - loss: 0.2368 - acc: 0.8842 - val_loss: 0.4043 - val_acc: 0.8140\n",
      "Epoch 87/100\n",
      "38/38 [==============================] - 0s 2ms/step - loss: 0.2367 - acc: 0.8842 - val_loss: 0.4042 - val_acc: 0.8140\n",
      "Epoch 88/100\n",
      "38/38 [==============================] - 0s 2ms/step - loss: 0.2367 - acc: 0.8842 - val_loss: 0.4041 - val_acc: 0.8140\n",
      "Epoch 89/100\n",
      "38/38 [==============================] - 0s 2ms/step - loss: 0.2365 - acc: 0.8842 - val_loss: 0.4039 - val_acc: 0.8140\n",
      "Epoch 90/100\n",
      "38/38 [==============================] - 0s 1ms/step - loss: 0.2365 - acc: 0.8842 - val_loss: 0.4036 - val_acc: 0.8140\n",
      "Epoch 91/100\n",
      "38/38 [==============================] - 0s 2ms/step - loss: 0.2363 - acc: 0.8842 - val_loss: 0.4035 - val_acc: 0.8140\n",
      "Epoch 92/100\n",
      "38/38 [==============================] - 0s 2ms/step - loss: 0.2362 - acc: 0.8842 - val_loss: 0.4037 - val_acc: 0.8140\n",
      "Epoch 93/100\n",
      "38/38 [==============================] - 0s 1ms/step - loss: 0.2361 - acc: 0.8842 - val_loss: 0.4033 - val_acc: 0.8140\n",
      "Epoch 94/100\n",
      "38/38 [==============================] - 0s 2ms/step - loss: 0.2361 - acc: 0.8842 - val_loss: 0.4031 - val_acc: 0.8140\n",
      "Epoch 95/100\n",
      "38/38 [==============================] - 0s 2ms/step - loss: 0.2360 - acc: 0.8842 - val_loss: 0.4031 - val_acc: 0.8140\n",
      "Epoch 96/100\n",
      "38/38 [==============================] - 0s 2ms/step - loss: 0.2359 - acc: 0.8842 - val_loss: 0.4031 - val_acc: 0.8140\n",
      "Epoch 97/100\n",
      "38/38 [==============================] - 0s 2ms/step - loss: 0.2359 - acc: 0.8842 - val_loss: 0.4031 - val_acc: 0.8140\n",
      "Epoch 98/100\n",
      "38/38 [==============================] - 0s 2ms/step - loss: 0.2358 - acc: 0.8842 - val_loss: 0.4032 - val_acc: 0.8140\n",
      "Epoch 99/100\n",
      "38/38 [==============================] - 0s 1ms/step - loss: 0.2357 - acc: 0.8842 - val_loss: 0.4033 - val_acc: 0.8140\n",
      "Epoch 100/100\n",
      "38/38 [==============================] - 0s 2ms/step - loss: 0.2356 - acc: 0.8842 - val_loss: 0.4034 - val_acc: 0.8140\n"
     ]
    },
    {
     "data": {
      "text/plain": [
       "<keras.src.callbacks.History at 0x22f53685520>"
      ]
     },
     "execution_count": 37,
     "metadata": {},
     "output_type": "execute_result"
    }
   ],
   "source": [
    "model = tf.keras.models.Sequential()\n",
    "model.add(tf.keras.layers.Input(3,name='Input'))\n",
    "model.add(tf.keras.layers.Dense(8, activation='relu', name = 'Hidden_Layer_1'))\n",
    "model.add(tf.keras.layers.Dense(2, activation='softmax', name = 'Output_Layer'))\n",
    "# model.add(tf.keras.layers.Dropout(0.3,name='Droputs'))\n",
    "model.summary()\n",
    "\n",
    "model.compile(optimizer= tf.keras.optimizers.SGD(),\n",
    "             loss=tf.keras.losses.binary_crossentropy,\n",
    "             metrics= ['acc'])\n",
    "\n",
    "model.fit(x=xn_train_resample,y=yn_train_resample,batch_size=10,epochs=100,validation_split=0.1)"
   ]
  },
  {
   "cell_type": "code",
   "execution_count": 38,
   "id": "4228f420",
   "metadata": {},
   "outputs": [
    {
     "data": {
      "text/plain": [
       "Text(0.5, 1.0, 'Loss of Model')"
      ]
     },
     "execution_count": 38,
     "metadata": {},
     "output_type": "execute_result"
    },
    {
     "data": {
      "image/png": "[encoded data removed]",
      "text/plain": [
       "<Figure size 864x288 with 2 Axes>"
      ]
     },
     "metadata": {
      "needs_background": "light"
     },
     "output_type": "display_data"
    }
   ],
   "source": [
    "plt.figure(figsize=(12,4))\n",
    "plt.subplot(1,2,1)\n",
    "plt.plot(model.history.history[\"acc\"], label = \"Training Acc\")\n",
    "plt.plot(model.history.history[\"val_acc\"], label = \"Val. Acc\")\n",
    "plt.legend()\n",
    "plt.xlabel(\"Epochs\")\n",
    "plt.ylabel(\"Accuracy\")\n",
    "plt.title(\"Accuracy of Model\")\n",
    "plt.subplot(1,2,2)\n",
    "plt.plot(model.history.history[\"loss\"], label = \"Training Loss\")\n",
    "plt.plot(model.history.history[\"val_loss\"], label = \"Val. Loss\")\n",
    "plt.legend()\n",
    "plt.xlabel(\"Epochs\")\n",
    "plt.ylabel(\"Loss\")\n",
    "plt.title(\"Loss of Model\")"
   ]
  },
  {
   "cell_type": "code",
   "execution_count": 39,
   "id": "4fbbce39",
   "metadata": {},
   "outputs": [
    {
     "name": "stdout",
     "output_type": "stream",
     "text": [
      "3/3 [==============================] - 0s 4ms/step\n"
     ]
    },
    {
     "data": {
      "text/plain": [
       "0.7792207792207793"
      ]
     },
     "execution_count": 39,
     "metadata": {},
     "output_type": "execute_result"
    }
   ],
   "source": [
    "yn_pred = model.predict(xn_test)\n",
    "yn_pred = np.argmax(yn_pred,axis=1)\n",
    "accuracy_score(yn_test,yn_pred)"
   ]
  },
  {
   "cell_type": "code",
   "execution_count": 40,
   "id": "e948afd2",
   "metadata": {},
   "outputs": [
    {
     "data": {
      "text/plain": [
       "17"
      ]
     },
     "execution_count": 40,
     "metadata": {},
     "output_type": "execute_result"
    }
   ],
   "source": [
    "result = pd.DataFrame([np.array(yn_test),np.array(yn_pred)]).T\n",
    "result = result.rename(columns={ 0 : 'yn_test', 1 : 'yn_pred'} )\n",
    "\n",
    "result['Error'] = result['yn_test']-result['yn_pred']\n",
    "result[result['Error'] != 0].Error.count()"
   ]
  },
  {
   "cell_type": "code",
   "execution_count": 41,
   "id": "0c12af6e",
   "metadata": {},
   "outputs": [
    {
     "data": {
      "text/plain": [
       "array([[39, 11],\n",
       "       [ 6, 21]], dtype=int64)"
      ]
     },
     "execution_count": 41,
     "metadata": {},
     "output_type": "execute_result"
    }
   ],
   "source": [
    "confusion_matrix(yn_test,yn_pred)"
   ]
  },
  {
   "cell_type": "code",
   "execution_count": 42,
   "id": "63256f53",
   "metadata": {},
   "outputs": [
    {
     "name": "stdout",
     "output_type": "stream",
     "text": [
      "              precision    recall  f1-score   support\n",
      "\n",
      "           0       0.87      0.78      0.82        50\n",
      "           1       0.66      0.78      0.71        27\n",
      "\n",
      "    accuracy                           0.78        77\n",
      "   macro avg       0.76      0.78      0.77        77\n",
      "weighted avg       0.79      0.78      0.78        77\n",
      "\n"
     ]
    }
   ],
   "source": [
    "print(classification_report(yn_test,yn_pred))"
   ]
  },
  {
   "cell_type": "markdown",
   "id": "2df07ddb",
   "metadata": {},
   "source": [
    "## QB. Build another sequential model where ‘Outcome’ is the dependent variable and all other columns are predictors.\n",
    "        1. This model should have 3 hidden layers with 16 nodes in each layer\n",
    "        2. Use ‘adam’ as the optimization algorithm\n",
    "        3. Fit the model, with number of epochs to be 150 and batch size to be 10"
   ]
  },
  {
   "cell_type": "code",
   "execution_count": 43,
   "id": "e419b57c",
   "metadata": {
    "scrolled": true
   },
   "outputs": [
    {
     "name": "stdout",
     "output_type": "stream",
     "text": [
      "Model: \"sequential_1\"\n",
      "_________________________________________________________________\n",
      " Layer (type)                Output Shape              Param #   \n",
      "=================================================================\n",
      " Hidden_Layer_1 (Dense)      (None, 16)                144       \n",
      "                                                                 \n",
      " Hidden_Layer_2 (Dense)      (None, 16)                272       \n",
      "                                                                 \n",
      " Hidden_Layer_3 (Dense)      (None, 16)                272       \n",
      "                                                                 \n",
      " Output_Layer (Dense)        (None, 2)                 34        \n",
      "                                                                 \n",
      " Droputs (Dropout)           (None, 2)                 0         \n",
      "                                                                 \n",
      "=================================================================\n",
      "Total params: 722 (2.82 KB)\n",
      "Trainable params: 722 (2.82 KB)\n",
      "Non-trainable params: 0 (0.00 Byte)\n",
      "_________________________________________________________________\n",
      "Epoch 1/150\n",
      "42/42 [==============================] - 1s 5ms/step - loss: 3.7598 - acc: 0.5518 - val_loss: 0.4718 - val_acc: 0.8298\n",
      "Epoch 2/150\n",
      "42/42 [==============================] - 0s 2ms/step - loss: 3.4053 - acc: 0.6072 - val_loss: 0.4812 - val_acc: 0.8085\n",
      "Epoch 3/150\n",
      "42/42 [==============================] - 0s 2ms/step - loss: 3.2161 - acc: 0.6386 - val_loss: 0.4599 - val_acc: 0.8085\n",
      "Epoch 4/150\n",
      "42/42 [==============================] - 0s 2ms/step - loss: 2.7920 - acc: 0.6723 - val_loss: 0.4178 - val_acc: 0.8085\n",
      "Epoch 5/150\n",
      "42/42 [==============================] - 0s 2ms/step - loss: 3.0695 - acc: 0.6554 - val_loss: 0.3870 - val_acc: 0.8085\n",
      "Epoch 6/150\n",
      "42/42 [==============================] - 0s 2ms/step - loss: 3.1242 - acc: 0.6627 - val_loss: 0.3432 - val_acc: 0.8511\n",
      "Epoch 7/150\n",
      "42/42 [==============================] - 0s 2ms/step - loss: 3.2060 - acc: 0.6627 - val_loss: 0.3306 - val_acc: 0.8511\n",
      "Epoch 8/150\n",
      "42/42 [==============================] - 0s 2ms/step - loss: 2.9420 - acc: 0.6843 - val_loss: 0.3003 - val_acc: 0.8511\n",
      "Epoch 9/150\n",
      "42/42 [==============================] - 0s 1ms/step - loss: 2.8842 - acc: 0.6843 - val_loss: 0.2792 - val_acc: 0.8511\n",
      "Epoch 10/150\n",
      "42/42 [==============================] - 0s 2ms/step - loss: 3.0009 - acc: 0.6458 - val_loss: 0.2751 - val_acc: 0.8511\n",
      "Epoch 11/150\n",
      "42/42 [==============================] - 0s 2ms/step - loss: 3.2704 - acc: 0.6675 - val_loss: 0.2132 - val_acc: 0.9574\n",
      "Epoch 12/150\n",
      "42/42 [==============================] - 0s 2ms/step - loss: 2.9679 - acc: 0.6747 - val_loss: 0.2051 - val_acc: 0.9362\n",
      "Epoch 13/150\n",
      "42/42 [==============================] - 0s 2ms/step - loss: 3.3357 - acc: 0.6193 - val_loss: 0.2915 - val_acc: 0.8298\n",
      "Epoch 14/150\n",
      "42/42 [==============================] - 0s 2ms/step - loss: 3.0989 - acc: 0.6795 - val_loss: 0.2331 - val_acc: 0.8723\n",
      "Epoch 15/150\n",
      "42/42 [==============================] - 0s 2ms/step - loss: 2.6513 - acc: 0.7157 - val_loss: 0.2592 - val_acc: 0.8298\n",
      "Epoch 16/150\n",
      "42/42 [==============================] - 0s 2ms/step - loss: 3.1396 - acc: 0.6747 - val_loss: 0.2306 - val_acc: 0.8723\n",
      "Epoch 17/150\n",
      "42/42 [==============================] - 0s 2ms/step - loss: 2.9836 - acc: 0.6867 - val_loss: 0.2410 - val_acc: 0.8723\n",
      "Epoch 18/150\n",
      "42/42 [==============================] - 0s 2ms/step - loss: 3.0006 - acc: 0.6651 - val_loss: 0.2567 - val_acc: 0.8085\n",
      "Epoch 19/150\n",
      "42/42 [==============================] - 0s 2ms/step - loss: 3.3317 - acc: 0.6530 - val_loss: 0.2012 - val_acc: 0.9362\n",
      "Epoch 20/150\n",
      "42/42 [==============================] - 0s 2ms/step - loss: 2.9930 - acc: 0.6843 - val_loss: 0.2663 - val_acc: 0.8085\n",
      "Epoch 21/150\n",
      "42/42 [==============================] - 0s 2ms/step - loss: 3.0123 - acc: 0.6723 - val_loss: 0.2358 - val_acc: 0.8723\n",
      "Epoch 22/150\n",
      "42/42 [==============================] - 0s 2ms/step - loss: 3.1080 - acc: 0.6771 - val_loss: 0.2257 - val_acc: 0.8723\n",
      "Epoch 23/150\n",
      "42/42 [==============================] - 0s 2ms/step - loss: 2.8521 - acc: 0.6892 - val_loss: 0.2586 - val_acc: 0.8511\n",
      "Epoch 24/150\n",
      "42/42 [==============================] - 0s 2ms/step - loss: 2.6650 - acc: 0.6940 - val_loss: 0.2184 - val_acc: 0.8936\n",
      "Epoch 25/150\n",
      "42/42 [==============================] - 0s 2ms/step - loss: 3.2394 - acc: 0.6482 - val_loss: 0.3748 - val_acc: 0.7660\n",
      "Epoch 26/150\n",
      "42/42 [==============================] - 0s 2ms/step - loss: 3.3752 - acc: 0.6386 - val_loss: 0.2814 - val_acc: 0.8085\n",
      "Epoch 27/150\n",
      "42/42 [==============================] - 0s 2ms/step - loss: 2.8910 - acc: 0.6675 - val_loss: 0.2338 - val_acc: 0.8085\n",
      "Epoch 28/150\n",
      "42/42 [==============================] - 0s 2ms/step - loss: 3.0847 - acc: 0.6867 - val_loss: 0.1804 - val_acc: 0.9149\n",
      "Epoch 29/150\n",
      "42/42 [==============================] - 0s 2ms/step - loss: 2.8612 - acc: 0.7036 - val_loss: 0.1842 - val_acc: 0.9149\n",
      "Epoch 30/150\n",
      "42/42 [==============================] - 0s 2ms/step - loss: 3.3911 - acc: 0.6410 - val_loss: 0.1889 - val_acc: 0.9149\n",
      "Epoch 31/150\n",
      "42/42 [==============================] - 0s 2ms/step - loss: 2.9686 - acc: 0.6554 - val_loss: 0.1986 - val_acc: 0.8936\n",
      "Epoch 32/150\n",
      "42/42 [==============================] - 0s 2ms/step - loss: 2.9829 - acc: 0.6771 - val_loss: 0.3375 - val_acc: 0.7872\n",
      "Epoch 33/150\n",
      "42/42 [==============================] - 0s 2ms/step - loss: 3.6163 - acc: 0.6241 - val_loss: 0.2998 - val_acc: 0.8298\n",
      "Epoch 34/150\n",
      "42/42 [==============================] - 0s 2ms/step - loss: 3.2659 - acc: 0.6554 - val_loss: 0.2807 - val_acc: 0.8298\n",
      "Epoch 35/150\n",
      "42/42 [==============================] - 0s 2ms/step - loss: 3.1022 - acc: 0.6747 - val_loss: 0.2656 - val_acc: 0.8298\n",
      "Epoch 36/150\n",
      "42/42 [==============================] - 0s 2ms/step - loss: 3.1995 - acc: 0.6578 - val_loss: 0.2571 - val_acc: 0.8298\n",
      "Epoch 37/150\n",
      "42/42 [==============================] - 0s 2ms/step - loss: 3.0343 - acc: 0.6867 - val_loss: 0.2473 - val_acc: 0.8298\n",
      "Epoch 38/150\n",
      "42/42 [==============================] - 0s 2ms/step - loss: 3.3179 - acc: 0.6554 - val_loss: 0.2370 - val_acc: 0.8511\n",
      "Epoch 39/150\n",
      "42/42 [==============================] - 0s 2ms/step - loss: 2.9143 - acc: 0.6940 - val_loss: 0.2136 - val_acc: 0.8723\n",
      "Epoch 40/150\n",
      "42/42 [==============================] - 0s 2ms/step - loss: 3.2894 - acc: 0.6506 - val_loss: 0.2195 - val_acc: 0.8723\n",
      "Epoch 41/150\n",
      "42/42 [==============================] - 0s 2ms/step - loss: 2.8715 - acc: 0.7060 - val_loss: 0.2203 - val_acc: 0.8723\n",
      "Epoch 42/150\n",
      "42/42 [==============================] - 0s 2ms/step - loss: 2.8796 - acc: 0.6988 - val_loss: 0.2211 - val_acc: 0.8723\n",
      "Epoch 43/150\n",
      "42/42 [==============================] - 0s 2ms/step - loss: 3.0121 - acc: 0.6723 - val_loss: 0.2181 - val_acc: 0.8723\n",
      "Epoch 44/150\n",
      "42/42 [==============================] - 0s 1ms/step - loss: 2.7803 - acc: 0.7060 - val_loss: 0.2189 - val_acc: 0.8723\n",
      "Epoch 45/150\n",
      "42/42 [==============================] - 0s 2ms/step - loss: 3.1744 - acc: 0.6434 - val_loss: 0.3050 - val_acc: 0.8298\n",
      "Epoch 46/150\n",
      "42/42 [==============================] - 0s 2ms/step - loss: 2.9662 - acc: 0.6699 - val_loss: 0.1089 - val_acc: 0.9574\n",
      "Epoch 47/150\n",
      "42/42 [==============================] - 0s 2ms/step - loss: 2.6312 - acc: 0.7181 - val_loss: 0.1046 - val_acc: 0.9574\n",
      "Epoch 48/150\n",
      "42/42 [==============================] - 0s 1ms/step - loss: 3.1272 - acc: 0.6699 - val_loss: 0.1203 - val_acc: 0.9574\n",
      "Epoch 49/150\n",
      "42/42 [==============================] - 0s 2ms/step - loss: 3.1537 - acc: 0.6771 - val_loss: 0.1356 - val_acc: 0.9574\n",
      "Epoch 50/150\n",
      "42/42 [==============================] - 0s 2ms/step - loss: 2.9823 - acc: 0.6795 - val_loss: 0.1407 - val_acc: 0.9574\n",
      "Epoch 51/150\n",
      "42/42 [==============================] - 0s 2ms/step - loss: 3.4180 - acc: 0.6289 - val_loss: 0.1424 - val_acc: 0.9574\n",
      "Epoch 52/150\n",
      "42/42 [==============================] - 0s 2ms/step - loss: 3.0149 - acc: 0.6795 - val_loss: 0.1941 - val_acc: 0.8936\n",
      "Epoch 53/150\n",
      "42/42 [==============================] - 0s 2ms/step - loss: 2.7523 - acc: 0.6916 - val_loss: 0.2001 - val_acc: 0.8723\n",
      "Epoch 54/150\n",
      "42/42 [==============================] - 0s 2ms/step - loss: 2.8228 - acc: 0.7036 - val_loss: 0.1888 - val_acc: 0.9149\n",
      "Epoch 55/150\n",
      "42/42 [==============================] - 0s 2ms/step - loss: 3.2091 - acc: 0.6602 - val_loss: 0.1845 - val_acc: 0.9149\n",
      "Epoch 56/150\n",
      "42/42 [==============================] - 0s 2ms/step - loss: 2.8516 - acc: 0.6747 - val_loss: 0.1902 - val_acc: 0.8723\n",
      "Epoch 57/150\n",
      "42/42 [==============================] - 0s 1ms/step - loss: 2.9346 - acc: 0.6867 - val_loss: 0.1886 - val_acc: 0.8936\n",
      "Epoch 58/150\n",
      "42/42 [==============================] - 0s 2ms/step - loss: 3.1062 - acc: 0.6699 - val_loss: 0.1855 - val_acc: 0.9149\n",
      "Epoch 59/150\n",
      "42/42 [==============================] - 0s 2ms/step - loss: 2.7938 - acc: 0.7060 - val_loss: 0.1842 - val_acc: 0.9362\n",
      "Epoch 60/150\n",
      "42/42 [==============================] - 0s 2ms/step - loss: 3.0006 - acc: 0.6940 - val_loss: 0.1902 - val_acc: 0.8723\n",
      "Epoch 61/150\n",
      "42/42 [==============================] - 0s 2ms/step - loss: 2.9134 - acc: 0.6843 - val_loss: 0.2106 - val_acc: 0.8723\n",
      "Epoch 62/150\n",
      "42/42 [==============================] - 0s 2ms/step - loss: 2.9344 - acc: 0.6771 - val_loss: 0.1988 - val_acc: 0.8723\n",
      "Epoch 63/150\n",
      "42/42 [==============================] - 0s 2ms/step - loss: 2.6943 - acc: 0.7012 - val_loss: 0.1952 - val_acc: 0.8723\n",
      "Epoch 64/150\n",
      "42/42 [==============================] - 0s 2ms/step - loss: 2.7622 - acc: 0.7036 - val_loss: 0.2028 - val_acc: 0.8723\n",
      "Epoch 65/150\n",
      "42/42 [==============================] - 0s 2ms/step - loss: 2.6768 - acc: 0.7253 - val_loss: 0.2046 - val_acc: 0.8723\n",
      "Epoch 66/150\n",
      "42/42 [==============================] - 0s 2ms/step - loss: 2.8756 - acc: 0.6916 - val_loss: 0.2071 - val_acc: 0.8723\n",
      "Epoch 67/150\n",
      "42/42 [==============================] - 0s 2ms/step - loss: 3.1916 - acc: 0.6578 - val_loss: 0.2056 - val_acc: 0.8723\n",
      "Epoch 68/150\n",
      "42/42 [==============================] - 0s 2ms/step - loss: 2.7886 - acc: 0.6819 - val_loss: 0.2780 - val_acc: 0.8723\n",
      "Epoch 69/150\n",
      "42/42 [==============================] - 0s 2ms/step - loss: 3.0071 - acc: 0.6699 - val_loss: 0.3733 - val_acc: 0.7872\n",
      "Epoch 70/150\n",
      "42/42 [==============================] - 0s 2ms/step - loss: 3.0987 - acc: 0.6675 - val_loss: 0.3421 - val_acc: 0.8298\n",
      "Epoch 71/150\n",
      "42/42 [==============================] - 0s 2ms/step - loss: 2.7648 - acc: 0.7060 - val_loss: 0.2929 - val_acc: 0.8723\n",
      "Epoch 72/150\n",
      "42/42 [==============================] - 0s 2ms/step - loss: 2.8660 - acc: 0.6988 - val_loss: 0.2747 - val_acc: 0.8723\n",
      "Epoch 73/150\n",
      "42/42 [==============================] - 0s 2ms/step - loss: 3.2996 - acc: 0.6651 - val_loss: 0.2451 - val_acc: 0.8723\n",
      "Epoch 74/150\n",
      "42/42 [==============================] - 0s 2ms/step - loss: 2.5056 - acc: 0.7229 - val_loss: 0.2285 - val_acc: 0.9149\n",
      "Epoch 75/150\n",
      "42/42 [==============================] - 0s 2ms/step - loss: 2.9477 - acc: 0.6988 - val_loss: 0.2231 - val_acc: 0.9149\n",
      "Epoch 76/150\n",
      "42/42 [==============================] - 0s 2ms/step - loss: 2.9915 - acc: 0.6651 - val_loss: 0.2201 - val_acc: 0.9149\n",
      "Epoch 77/150\n",
      "42/42 [==============================] - 0s 2ms/step - loss: 2.6308 - acc: 0.7301 - val_loss: 0.2133 - val_acc: 0.8936\n",
      "Epoch 78/150\n",
      "42/42 [==============================] - 0s 2ms/step - loss: 2.9844 - acc: 0.6699 - val_loss: 0.2272 - val_acc: 0.8936\n",
      "Epoch 79/150\n",
      "42/42 [==============================] - 0s 2ms/step - loss: 3.2934 - acc: 0.6458 - val_loss: 0.2191 - val_acc: 0.8936\n",
      "Epoch 80/150\n",
      "42/42 [==============================] - 0s 2ms/step - loss: 2.9385 - acc: 0.6843 - val_loss: 0.2158 - val_acc: 0.8936\n",
      "Epoch 81/150\n",
      "42/42 [==============================] - 0s 2ms/step - loss: 2.7503 - acc: 0.7036 - val_loss: 0.2177 - val_acc: 0.8936\n",
      "Epoch 82/150\n",
      "42/42 [==============================] - 0s 2ms/step - loss: 2.8997 - acc: 0.6916 - val_loss: 0.2229 - val_acc: 0.8723\n",
      "Epoch 83/150\n",
      "42/42 [==============================] - 0s 2ms/step - loss: 3.1582 - acc: 0.6651 - val_loss: 0.2130 - val_acc: 0.8936\n",
      "Epoch 84/150\n",
      "42/42 [==============================] - 0s 2ms/step - loss: 2.8705 - acc: 0.6940 - val_loss: 0.2135 - val_acc: 0.8723\n",
      "Epoch 85/150\n",
      "42/42 [==============================] - 0s 2ms/step - loss: 2.9770 - acc: 0.6675 - val_loss: 0.2091 - val_acc: 0.8936\n",
      "Epoch 86/150\n",
      "42/42 [==============================] - 0s 2ms/step - loss: 3.1533 - acc: 0.6554 - val_loss: 0.2130 - val_acc: 0.8723\n",
      "Epoch 87/150\n",
      "42/42 [==============================] - 0s 2ms/step - loss: 2.8435 - acc: 0.6867 - val_loss: 0.2101 - val_acc: 0.8723\n",
      "Epoch 88/150\n",
      "42/42 [==============================] - 0s 2ms/step - loss: 2.7418 - acc: 0.7205 - val_loss: 0.2129 - val_acc: 0.8723\n",
      "Epoch 89/150\n",
      "42/42 [==============================] - 0s 2ms/step - loss: 2.8302 - acc: 0.6867 - val_loss: 0.2111 - val_acc: 0.8723\n",
      "Epoch 90/150\n",
      "42/42 [==============================] - 0s 2ms/step - loss: 2.8900 - acc: 0.6988 - val_loss: 0.2072 - val_acc: 0.8723\n",
      "Epoch 91/150\n",
      "42/42 [==============================] - 0s 2ms/step - loss: 2.8250 - acc: 0.7157 - val_loss: 0.2113 - val_acc: 0.8723\n",
      "Epoch 92/150\n",
      "42/42 [==============================] - 0s 2ms/step - loss: 2.8272 - acc: 0.6867 - val_loss: 0.2035 - val_acc: 0.8936\n",
      "Epoch 93/150\n",
      "42/42 [==============================] - 0s 2ms/step - loss: 3.0036 - acc: 0.6747 - val_loss: 0.2148 - val_acc: 0.8723\n",
      "Epoch 94/150\n",
      "42/42 [==============================] - 0s 2ms/step - loss: 3.2344 - acc: 0.6289 - val_loss: 0.2197 - val_acc: 0.8723\n",
      "Epoch 95/150\n",
      "42/42 [==============================] - 0s 2ms/step - loss: 3.0956 - acc: 0.6651 - val_loss: 0.2195 - val_acc: 0.8723\n",
      "Epoch 96/150\n",
      "42/42 [==============================] - 0s 3ms/step - loss: 2.9398 - acc: 0.6843 - val_loss: 0.2159 - val_acc: 0.8723\n",
      "Epoch 97/150\n",
      "42/42 [==============================] - 0s 2ms/step - loss: 2.9115 - acc: 0.6892 - val_loss: 0.2133 - val_acc: 0.8936\n",
      "Epoch 98/150\n",
      "42/42 [==============================] - 0s 2ms/step - loss: 3.1374 - acc: 0.6651 - val_loss: 0.2149 - val_acc: 0.8936\n",
      "Epoch 99/150\n",
      "42/42 [==============================] - 0s 2ms/step - loss: 2.9158 - acc: 0.6964 - val_loss: 0.2168 - val_acc: 0.8723\n",
      "Epoch 100/150\n",
      "42/42 [==============================] - 0s 2ms/step - loss: 2.8566 - acc: 0.6916 - val_loss: 0.2175 - val_acc: 0.8723\n",
      "Epoch 101/150\n",
      "42/42 [==============================] - 0s 2ms/step - loss: 3.2344 - acc: 0.6506 - val_loss: 0.2043 - val_acc: 0.8723\n",
      "Epoch 102/150\n",
      "42/42 [==============================] - 0s 2ms/step - loss: 3.0939 - acc: 0.6747 - val_loss: 0.2108 - val_acc: 0.8723\n",
      "Epoch 103/150\n",
      "42/42 [==============================] - 0s 2ms/step - loss: 2.9785 - acc: 0.6843 - val_loss: 0.2091 - val_acc: 0.8723\n",
      "Epoch 104/150\n",
      "42/42 [==============================] - 0s 2ms/step - loss: 2.8298 - acc: 0.7060 - val_loss: 0.2057 - val_acc: 0.8723\n",
      "Epoch 105/150\n",
      "42/42 [==============================] - 0s 2ms/step - loss: 2.6661 - acc: 0.7157 - val_loss: 0.1996 - val_acc: 0.8936\n",
      "Epoch 106/150\n",
      "42/42 [==============================] - 0s 3ms/step - loss: 2.7292 - acc: 0.7084 - val_loss: 0.2179 - val_acc: 0.8723\n",
      "Epoch 107/150\n",
      "42/42 [==============================] - 0s 2ms/step - loss: 3.0186 - acc: 0.6795 - val_loss: 0.2051 - val_acc: 0.8723\n",
      "Epoch 108/150\n",
      "42/42 [==============================] - 0s 2ms/step - loss: 3.0803 - acc: 0.6506 - val_loss: 0.2174 - val_acc: 0.8723\n",
      "Epoch 109/150\n",
      "42/42 [==============================] - 0s 2ms/step - loss: 3.0258 - acc: 0.6699 - val_loss: 0.2098 - val_acc: 0.8723\n",
      "Epoch 110/150\n",
      "42/42 [==============================] - 0s 2ms/step - loss: 3.0982 - acc: 0.6675 - val_loss: 0.2048 - val_acc: 0.8723\n",
      "Epoch 111/150\n",
      "42/42 [==============================] - 0s 2ms/step - loss: 3.0734 - acc: 0.6723 - val_loss: 0.2069 - val_acc: 0.8723\n",
      "Epoch 112/150\n",
      "42/42 [==============================] - 0s 2ms/step - loss: 2.9655 - acc: 0.6651 - val_loss: 0.1996 - val_acc: 0.8723\n",
      "Epoch 113/150\n",
      "42/42 [==============================] - 0s 3ms/step - loss: 2.6929 - acc: 0.7229 - val_loss: 0.2005 - val_acc: 0.8723\n",
      "Epoch 114/150\n",
      "42/42 [==============================] - 0s 2ms/step - loss: 2.6997 - acc: 0.7133 - val_loss: 0.1933 - val_acc: 0.8723\n",
      "Epoch 115/150\n",
      "42/42 [==============================] - 0s 2ms/step - loss: 2.9170 - acc: 0.6795 - val_loss: 0.1986 - val_acc: 0.8936\n",
      "Epoch 116/150\n",
      "42/42 [==============================] - 0s 2ms/step - loss: 3.2706 - acc: 0.6265 - val_loss: 0.2192 - val_acc: 0.8723\n",
      "Epoch 117/150\n",
      "42/42 [==============================] - 0s 2ms/step - loss: 2.7805 - acc: 0.7157 - val_loss: 0.2016 - val_acc: 0.8723\n",
      "Epoch 118/150\n",
      "42/42 [==============================] - 0s 2ms/step - loss: 2.6969 - acc: 0.7157 - val_loss: 0.2023 - val_acc: 0.8723\n",
      "Epoch 119/150\n",
      "42/42 [==============================] - 0s 2ms/step - loss: 3.1089 - acc: 0.6771 - val_loss: 0.2073 - val_acc: 0.8723\n",
      "Epoch 120/150\n",
      "42/42 [==============================] - 0s 2ms/step - loss: 2.8425 - acc: 0.6916 - val_loss: 0.2060 - val_acc: 0.8723\n",
      "Epoch 121/150\n",
      "42/42 [==============================] - 0s 3ms/step - loss: 3.1428 - acc: 0.6602 - val_loss: 0.1896 - val_acc: 0.8723\n",
      "Epoch 122/150\n",
      "42/42 [==============================] - 0s 2ms/step - loss: 2.8611 - acc: 0.7060 - val_loss: 0.1887 - val_acc: 0.8936\n",
      "Epoch 123/150\n",
      "42/42 [==============================] - 0s 2ms/step - loss: 2.4443 - acc: 0.7301 - val_loss: 0.2120 - val_acc: 0.8723\n",
      "Epoch 124/150\n",
      "42/42 [==============================] - 0s 2ms/step - loss: 2.7420 - acc: 0.6964 - val_loss: 0.1979 - val_acc: 0.8723\n",
      "Epoch 125/150\n",
      "42/42 [==============================] - 0s 2ms/step - loss: 2.9156 - acc: 0.7084 - val_loss: 0.2056 - val_acc: 0.8723\n",
      "Epoch 126/150\n",
      "42/42 [==============================] - 0s 2ms/step - loss: 2.9984 - acc: 0.6940 - val_loss: 0.1962 - val_acc: 0.9149\n",
      "Epoch 127/150\n",
      "42/42 [==============================] - 0s 2ms/step - loss: 2.9395 - acc: 0.6916 - val_loss: 0.1894 - val_acc: 0.8723\n",
      "Epoch 128/150\n",
      "42/42 [==============================] - 0s 2ms/step - loss: 2.7514 - acc: 0.7084 - val_loss: 0.1888 - val_acc: 0.8936\n",
      "Epoch 129/150\n",
      "42/42 [==============================] - 0s 2ms/step - loss: 2.9595 - acc: 0.6795 - val_loss: 0.1987 - val_acc: 0.8936\n",
      "Epoch 130/150\n",
      "42/42 [==============================] - 0s 2ms/step - loss: 3.1592 - acc: 0.6723 - val_loss: 0.1967 - val_acc: 0.8936\n",
      "Epoch 131/150\n",
      "42/42 [==============================] - 0s 2ms/step - loss: 3.0341 - acc: 0.6964 - val_loss: 0.1862 - val_acc: 0.8936\n",
      "Epoch 132/150\n",
      "42/42 [==============================] - 0s 2ms/step - loss: 2.8596 - acc: 0.7012 - val_loss: 0.1988 - val_acc: 0.8936\n",
      "Epoch 133/150\n",
      "42/42 [==============================] - 0s 1ms/step - loss: 2.8985 - acc: 0.6988 - val_loss: 0.1882 - val_acc: 0.8936\n",
      "Epoch 134/150\n",
      "42/42 [==============================] - 0s 2ms/step - loss: 2.9095 - acc: 0.7012 - val_loss: 0.1880 - val_acc: 0.8936\n",
      "Epoch 135/150\n",
      "42/42 [==============================] - 0s 2ms/step - loss: 2.7108 - acc: 0.6940 - val_loss: 0.1892 - val_acc: 0.8936\n",
      "Epoch 136/150\n",
      "42/42 [==============================] - 0s 2ms/step - loss: 2.9060 - acc: 0.6892 - val_loss: 0.1740 - val_acc: 0.9362\n",
      "Epoch 137/150\n",
      "42/42 [==============================] - 0s 2ms/step - loss: 2.8015 - acc: 0.6916 - val_loss: 0.2071 - val_acc: 0.8936\n",
      "Epoch 138/150\n",
      "42/42 [==============================] - 0s 2ms/step - loss: 3.0375 - acc: 0.6819 - val_loss: 0.1979 - val_acc: 0.9149\n",
      "Epoch 139/150\n",
      "42/42 [==============================] - 0s 2ms/step - loss: 3.0323 - acc: 0.6699 - val_loss: 0.1780 - val_acc: 0.9362\n",
      "Epoch 140/150\n",
      "42/42 [==============================] - 0s 2ms/step - loss: 2.9559 - acc: 0.6819 - val_loss: 0.1913 - val_acc: 0.8936\n",
      "Epoch 141/150\n",
      "42/42 [==============================] - 0s 2ms/step - loss: 2.8967 - acc: 0.6940 - val_loss: 0.1592 - val_acc: 0.9362\n",
      "Epoch 142/150\n",
      "42/42 [==============================] - 0s 2ms/step - loss: 2.8158 - acc: 0.6988 - val_loss: 0.1771 - val_acc: 0.9149\n",
      "Epoch 143/150\n",
      "42/42 [==============================] - 0s 2ms/step - loss: 2.7446 - acc: 0.7036 - val_loss: 0.1800 - val_acc: 0.9149\n",
      "Epoch 144/150\n",
      "42/42 [==============================] - 0s 2ms/step - loss: 2.9156 - acc: 0.7036 - val_loss: 0.1750 - val_acc: 0.9149\n",
      "Epoch 145/150\n",
      "42/42 [==============================] - 0s 2ms/step - loss: 2.6249 - acc: 0.7301 - val_loss: 0.1854 - val_acc: 0.9362\n",
      "Epoch 146/150\n",
      "42/42 [==============================] - 0s 2ms/step - loss: 2.7992 - acc: 0.6940 - val_loss: 0.1785 - val_acc: 0.9362\n",
      "Epoch 147/150\n",
      "42/42 [==============================] - 0s 2ms/step - loss: 3.0630 - acc: 0.6795 - val_loss: 0.1832 - val_acc: 0.9362\n",
      "Epoch 148/150\n",
      "42/42 [==============================] - 0s 2ms/step - loss: 3.0029 - acc: 0.6723 - val_loss: 0.1687 - val_acc: 0.9149\n",
      "Epoch 149/150\n",
      "42/42 [==============================] - 0s 2ms/step - loss: 2.8794 - acc: 0.7229 - val_loss: 0.1818 - val_acc: 0.9149\n",
      "Epoch 150/150\n",
      "42/42 [==============================] - 0s 2ms/step - loss: 2.8688 - acc: 0.6988 - val_loss: 0.1528 - val_acc: 0.9362\n"
     ]
    },
    {
     "data": {
      "text/plain": [
       "<keras.src.callbacks.History at 0x22f54d8c7f0>"
      ]
     },
     "execution_count": 43,
     "metadata": {},
     "output_type": "execute_result"
    }
   ],
   "source": [
    "del model\n",
    "model = tf.keras.models.Sequential()\n",
    "model.add(tf.keras.layers.Input(8,name='Input'))\n",
    "model.add(tf.keras.layers.Dense(16, activation='linear', name = 'Hidden_Layer_1'))\n",
    "model.add(tf.keras.layers.Dense(16, activation='linear', name = 'Hidden_Layer_2'))\n",
    "model.add(tf.keras.layers.Dense(16, activation='relu', name = 'Hidden_Layer_3'))\n",
    "model.add(tf.keras.layers.Dense(2, activation='softmax', name = 'Output_Layer'))\n",
    "model.add(tf.keras.layers.Dropout(0.35,name='Droputs'))\n",
    "model.summary()\n",
    "model.compile(optimizer= tf.keras.optimizers.Adam(),\n",
    "             loss=tf.keras.losses.binary_crossentropy,\n",
    "             metrics= ['acc'])\n",
    "\n",
    "model.fit(x=x_train_resample,y=y_train_resample,batch_size=10,epochs=150,validation_split=0.1)"
   ]
  },
  {
   "cell_type": "code",
   "execution_count": 44,
   "id": "5e7e6143",
   "metadata": {},
   "outputs": [
    {
     "data": {
      "text/plain": [
       "Text(0.5, 1.0, 'Loss of Model')"
      ]
     },
     "execution_count": 44,
     "metadata": {},
     "output_type": "execute_result"
    },
    {
     "data": {
      "image/png": "[encoded data removed]",
      "text/plain": [
       "<Figure size 864x288 with 2 Axes>"
      ]
     },
     "metadata": {
      "needs_background": "light"
     },
     "output_type": "display_data"
    }
   ],
   "source": [
    "plt.figure(figsize=(12,4))\n",
    "plt.subplot(1,2,1)\n",
    "plt.plot(model.history.history[\"acc\"], label = \"Training Acc\")\n",
    "plt.plot(model.history.history[\"val_acc\"], label = \"Val. Acc\")\n",
    "plt.legend()\n",
    "plt.xlabel(\"Epochs\")\n",
    "plt.ylabel(\"Accuracy\")\n",
    "plt.title(\"Accuracy of Model\")\n",
    "plt.subplot(1,2,2)\n",
    "plt.plot(model.history.history[\"loss\"], label = \"Training Loss\")\n",
    "plt.plot(model.history.history[\"val_loss\"], label = \"Val. Loss\")\n",
    "plt.legend()\n",
    "plt.xlabel(\"Epochs\")\n",
    "plt.ylabel(\"Loss\")\n",
    "plt.title(\"Loss of Model\")"
   ]
  },
  {
   "cell_type": "code",
   "execution_count": 45,
   "id": "e1d35550",
   "metadata": {},
   "outputs": [
    {
     "name": "stdout",
     "output_type": "stream",
     "text": [
      "3/3 [==============================] - 0s 2ms/step\n"
     ]
    }
   ],
   "source": [
    "y_pred = model.predict(x_test)"
   ]
  },
  {
   "cell_type": "code",
   "execution_count": 46,
   "id": "cfbf3fc1",
   "metadata": {},
   "outputs": [],
   "source": [
    "y_pred = np.argmax(y_pred,axis=1)"
   ]
  },
  {
   "cell_type": "code",
   "execution_count": 47,
   "id": "74836298",
   "metadata": {},
   "outputs": [
    {
     "data": {
      "text/plain": [
       "0.7142857142857143"
      ]
     },
     "execution_count": 47,
     "metadata": {},
     "output_type": "execute_result"
    }
   ],
   "source": [
    "accuracy_score(y_test,y_pred)"
   ]
  },
  {
   "cell_type": "code",
   "execution_count": 48,
   "id": "a6779b28",
   "metadata": {},
   "outputs": [],
   "source": [
    "result = pd.DataFrame([np.array(y_test),np.array(y_pred)]).T\n",
    "result = result.rename(columns={ 0 : 'y_test', 1 : 'y_pred'} )"
   ]
  },
  {
   "cell_type": "code",
   "execution_count": 49,
   "id": "394b3643",
   "metadata": {},
   "outputs": [
    {
     "data": {
      "text/plain": [
       "22"
      ]
     },
     "execution_count": 49,
     "metadata": {},
     "output_type": "execute_result"
    }
   ],
   "source": [
    "result['Error'] = result['y_test']-result['y_pred']\n",
    "result[result['Error'] != 0].Error.count()"
   ]
  },
  {
   "cell_type": "code",
   "execution_count": 50,
   "id": "7afc46a5",
   "metadata": {},
   "outputs": [
    {
     "data": {
      "text/plain": [
       "array([[34, 17],\n",
       "       [ 5, 21]], dtype=int64)"
      ]
     },
     "execution_count": 50,
     "metadata": {},
     "output_type": "execute_result"
    }
   ],
   "source": [
    "confusion_matrix(y_test,y_pred)"
   ]
  },
  {
   "cell_type": "code",
   "execution_count": 51,
   "id": "29f2c7d9",
   "metadata": {
    "scrolled": false
   },
   "outputs": [
    {
     "name": "stdout",
     "output_type": "stream",
     "text": [
      "              precision    recall  f1-score   support\n",
      "\n",
      "           0       0.87      0.67      0.76        51\n",
      "           1       0.55      0.81      0.66        26\n",
      "\n",
      "    accuracy                           0.71        77\n",
      "   macro avg       0.71      0.74      0.71        77\n",
      "weighted avg       0.76      0.71      0.72        77\n",
      "\n"
     ]
    }
   ],
   "source": [
    "print(classification_report(y_test,y_pred))"
   ]
  }
 ],
 "metadata": {
  "kernelspec": {
   "display_name": "Python 3 (ipykernel)",
   "language": "python",
   "name": "python3"
  },
  "language_info": {
   "codemirror_mode": {
    "name": "ipython",
    "version": 3
   },
   "file_extension": ".py",
   "mimetype": "text/x-python",
   "name": "python",
   "nbconvert_exporter": "python",
   "pygments_lexer": "ipython3",
   "version": "3.9.12"
  }
 },
 "nbformat": 4,
 "nbformat_minor": 5
}
